{
 "cells": [
  {
   "cell_type": "markdown",
   "metadata": {
    "colab_type": "text",
    "id": "0MRC0e0KhQ0S"
   },
   "source": [
    "# Logistic Regression"
   ]
  },
  {
   "cell_type": "markdown",
   "metadata": {
    "colab_type": "text",
    "id": "LWd1UlMnhT2s"
   },
   "source": [
    "## Importing the libraries"
   ]
  },
  {
   "cell_type": "code",
   "execution_count": 1,
   "metadata": {
    "colab": {},
    "colab_type": "code",
    "id": "YvGPUQaHhXfL"
   },
   "outputs": [],
   "source": [
    "import numpy as np\n",
    "import matplotlib.pyplot as plt\n",
    "import pandas as pd\n",
    "import seaborn as sns"
   ]
  },
  {
   "cell_type": "markdown",
   "metadata": {
    "colab_type": "text",
    "id": "K1VMqkGvhc3-"
   },
   "source": [
    "## Importing the dataset"
   ]
  },
  {
   "cell_type": "code",
   "execution_count": 2,
   "metadata": {
    "colab": {},
    "colab_type": "code",
    "id": "M52QDmyzhh9s"
   },
   "outputs": [],
   "source": [
    "dataset = pd.read_csv('Social_Network_Ads.csv')\n"
   ]
  },
  {
   "cell_type": "code",
   "execution_count": 3,
   "metadata": {},
   "outputs": [
    {
     "data": {
      "text/html": [
       "<div>\n",
       "<style scoped>\n",
       "    .dataframe tbody tr th:only-of-type {\n",
       "        vertical-align: middle;\n",
       "    }\n",
       "\n",
       "    .dataframe tbody tr th {\n",
       "        vertical-align: top;\n",
       "    }\n",
       "\n",
       "    .dataframe thead th {\n",
       "        text-align: right;\n",
       "    }\n",
       "</style>\n",
       "<table border=\"1\" class=\"dataframe\">\n",
       "  <thead>\n",
       "    <tr style=\"text-align: right;\">\n",
       "      <th></th>\n",
       "      <th>Age</th>\n",
       "      <th>EstimatedSalary</th>\n",
       "      <th>Purchased</th>\n",
       "    </tr>\n",
       "  </thead>\n",
       "  <tbody>\n",
       "    <tr>\n",
       "      <th>0</th>\n",
       "      <td>19</td>\n",
       "      <td>19000</td>\n",
       "      <td>0</td>\n",
       "    </tr>\n",
       "    <tr>\n",
       "      <th>1</th>\n",
       "      <td>35</td>\n",
       "      <td>20000</td>\n",
       "      <td>0</td>\n",
       "    </tr>\n",
       "    <tr>\n",
       "      <th>2</th>\n",
       "      <td>26</td>\n",
       "      <td>43000</td>\n",
       "      <td>0</td>\n",
       "    </tr>\n",
       "    <tr>\n",
       "      <th>3</th>\n",
       "      <td>27</td>\n",
       "      <td>57000</td>\n",
       "      <td>0</td>\n",
       "    </tr>\n",
       "    <tr>\n",
       "      <th>4</th>\n",
       "      <td>19</td>\n",
       "      <td>76000</td>\n",
       "      <td>0</td>\n",
       "    </tr>\n",
       "  </tbody>\n",
       "</table>\n",
       "</div>"
      ],
      "text/plain": [
       "   Age  EstimatedSalary  Purchased\n",
       "0   19            19000          0\n",
       "1   35            20000          0\n",
       "2   26            43000          0\n",
       "3   27            57000          0\n",
       "4   19            76000          0"
      ]
     },
     "execution_count": 3,
     "metadata": {},
     "output_type": "execute_result"
    }
   ],
   "source": [
    "dataset.head(5)"
   ]
  },
  {
   "cell_type": "code",
   "execution_count": 4,
   "metadata": {},
   "outputs": [
    {
     "name": "stdout",
     "output_type": "stream",
     "text": [
      "<class 'pandas.core.frame.DataFrame'>\n",
      "RangeIndex: 400 entries, 0 to 399\n",
      "Data columns (total 3 columns):\n",
      " #   Column           Non-Null Count  Dtype\n",
      "---  ------           --------------  -----\n",
      " 0   Age              400 non-null    int64\n",
      " 1   EstimatedSalary  400 non-null    int64\n",
      " 2   Purchased        400 non-null    int64\n",
      "dtypes: int64(3)\n",
      "memory usage: 9.5 KB\n"
     ]
    }
   ],
   "source": [
    "# check data type and all information\n",
    "dataset.info()"
   ]
  },
  {
   "cell_type": "code",
   "execution_count": 5,
   "metadata": {},
   "outputs": [
    {
     "data": {
      "text/html": [
       "<div>\n",
       "<style scoped>\n",
       "    .dataframe tbody tr th:only-of-type {\n",
       "        vertical-align: middle;\n",
       "    }\n",
       "\n",
       "    .dataframe tbody tr th {\n",
       "        vertical-align: top;\n",
       "    }\n",
       "\n",
       "    .dataframe thead th {\n",
       "        text-align: right;\n",
       "    }\n",
       "</style>\n",
       "<table border=\"1\" class=\"dataframe\">\n",
       "  <thead>\n",
       "    <tr style=\"text-align: right;\">\n",
       "      <th></th>\n",
       "      <th>Age</th>\n",
       "      <th>EstimatedSalary</th>\n",
       "      <th>Purchased</th>\n",
       "    </tr>\n",
       "  </thead>\n",
       "  <tbody>\n",
       "    <tr>\n",
       "      <th>count</th>\n",
       "      <td>400.000000</td>\n",
       "      <td>400.000000</td>\n",
       "      <td>400.000000</td>\n",
       "    </tr>\n",
       "    <tr>\n",
       "      <th>mean</th>\n",
       "      <td>37.655000</td>\n",
       "      <td>69742.500000</td>\n",
       "      <td>0.357500</td>\n",
       "    </tr>\n",
       "    <tr>\n",
       "      <th>std</th>\n",
       "      <td>10.482877</td>\n",
       "      <td>34096.960282</td>\n",
       "      <td>0.479864</td>\n",
       "    </tr>\n",
       "    <tr>\n",
       "      <th>min</th>\n",
       "      <td>18.000000</td>\n",
       "      <td>15000.000000</td>\n",
       "      <td>0.000000</td>\n",
       "    </tr>\n",
       "    <tr>\n",
       "      <th>25%</th>\n",
       "      <td>29.750000</td>\n",
       "      <td>43000.000000</td>\n",
       "      <td>0.000000</td>\n",
       "    </tr>\n",
       "    <tr>\n",
       "      <th>50%</th>\n",
       "      <td>37.000000</td>\n",
       "      <td>70000.000000</td>\n",
       "      <td>0.000000</td>\n",
       "    </tr>\n",
       "    <tr>\n",
       "      <th>75%</th>\n",
       "      <td>46.000000</td>\n",
       "      <td>88000.000000</td>\n",
       "      <td>1.000000</td>\n",
       "    </tr>\n",
       "    <tr>\n",
       "      <th>max</th>\n",
       "      <td>60.000000</td>\n",
       "      <td>150000.000000</td>\n",
       "      <td>1.000000</td>\n",
       "    </tr>\n",
       "  </tbody>\n",
       "</table>\n",
       "</div>"
      ],
      "text/plain": [
       "              Age  EstimatedSalary   Purchased\n",
       "count  400.000000       400.000000  400.000000\n",
       "mean    37.655000     69742.500000    0.357500\n",
       "std     10.482877     34096.960282    0.479864\n",
       "min     18.000000     15000.000000    0.000000\n",
       "25%     29.750000     43000.000000    0.000000\n",
       "50%     37.000000     70000.000000    0.000000\n",
       "75%     46.000000     88000.000000    1.000000\n",
       "max     60.000000    150000.000000    1.000000"
      ]
     },
     "execution_count": 5,
     "metadata": {},
     "output_type": "execute_result"
    }
   ],
   "source": [
    "#stastical information\n",
    "dataset.describe()"
   ]
  },
  {
   "cell_type": "code",
   "execution_count": 6,
   "metadata": {},
   "outputs": [
    {
     "data": {
      "text/plain": [
       "<seaborn.axisgrid.PairGrid at 0x18cb50cd640>"
      ]
     },
     "execution_count": 6,
     "metadata": {},
     "output_type": "execute_result"
    },
    {
     "data": {
      "image/png": "[encoded data removed]",
      "text/plain": [
       "<Figure size 540x540 with 12 Axes>"
      ]
     },
     "metadata": {
      "needs_background": "light"
     },
     "output_type": "display_data"
    }
   ],
   "source": [
    "sns.pairplot(dataset)"
   ]
  },
  {
   "cell_type": "code",
   "execution_count": null,
   "metadata": {},
   "outputs": [],
   "source": []
  },
  {
   "cell_type": "code",
   "execution_count": null,
   "metadata": {},
   "outputs": [],
   "source": []
  },
  {
   "cell_type": "code",
   "execution_count": 7,
   "metadata": {},
   "outputs": [],
   "source": [
    "X = dataset.iloc[:, :-1].values\n",
    "y = dataset.iloc[:, -1].values"
   ]
  },
  {
   "cell_type": "code",
   "execution_count": 8,
   "metadata": {},
   "outputs": [
    {
     "data": {
      "text/plain": [
       "array([[    19,  19000],\n",
       "       [    35,  20000],\n",
       "       [    26,  43000],\n",
       "       [    27,  57000],\n",
       "       [    19,  76000],\n",
       "       [    27,  58000],\n",
       "       [    27,  84000],\n",
       "       [    32, 150000],\n",
       "       [    25,  33000],\n",
       "       [    35,  65000],\n",
       "       [    26,  80000],\n",
       "       [    26,  52000],\n",
       "       [    20,  86000],\n",
       "       [    32,  18000],\n",
       "       [    18,  82000],\n",
       "       [    29,  80000],\n",
       "       [    47,  25000],\n",
       "       [    45,  26000],\n",
       "       [    46,  28000],\n",
       "       [    48,  29000],\n",
       "       [    45,  22000],\n",
       "       [    47,  49000],\n",
       "       [    48,  41000],\n",
       "       [    45,  22000],\n",
       "       [    46,  23000],\n",
       "       [    47,  20000],\n",
       "       [    49,  28000],\n",
       "       [    47,  30000],\n",
       "       [    29,  43000],\n",
       "       [    31,  18000],\n",
       "       [    31,  74000],\n",
       "       [    27, 137000],\n",
       "       [    21,  16000],\n",
       "       [    28,  44000],\n",
       "       [    27,  90000],\n",
       "       [    35,  27000],\n",
       "       [    33,  28000],\n",
       "       [    30,  49000],\n",
       "       [    26,  72000],\n",
       "       [    27,  31000],\n",
       "       [    27,  17000],\n",
       "       [    33,  51000],\n",
       "       [    35, 108000],\n",
       "       [    30,  15000],\n",
       "       [    28,  84000],\n",
       "       [    23,  20000],\n",
       "       [    25,  79000],\n",
       "       [    27,  54000],\n",
       "       [    30, 135000],\n",
       "       [    31,  89000],\n",
       "       [    24,  32000],\n",
       "       [    18,  44000],\n",
       "       [    29,  83000],\n",
       "       [    35,  23000],\n",
       "       [    27,  58000],\n",
       "       [    24,  55000],\n",
       "       [    23,  48000],\n",
       "       [    28,  79000],\n",
       "       [    22,  18000],\n",
       "       [    32, 117000],\n",
       "       [    27,  20000],\n",
       "       [    25,  87000],\n",
       "       [    23,  66000],\n",
       "       [    32, 120000],\n",
       "       [    59,  83000],\n",
       "       [    24,  58000],\n",
       "       [    24,  19000],\n",
       "       [    23,  82000],\n",
       "       [    22,  63000],\n",
       "       [    31,  68000],\n",
       "       [    25,  80000],\n",
       "       [    24,  27000],\n",
       "       [    20,  23000],\n",
       "       [    33, 113000],\n",
       "       [    32,  18000],\n",
       "       [    34, 112000],\n",
       "       [    18,  52000],\n",
       "       [    22,  27000],\n",
       "       [    28,  87000],\n",
       "       [    26,  17000],\n",
       "       [    30,  80000],\n",
       "       [    39,  42000],\n",
       "       [    20,  49000],\n",
       "       [    35,  88000],\n",
       "       [    30,  62000],\n",
       "       [    31, 118000],\n",
       "       [    24,  55000],\n",
       "       [    28,  85000],\n",
       "       [    26,  81000],\n",
       "       [    35,  50000],\n",
       "       [    22,  81000],\n",
       "       [    30, 116000],\n",
       "       [    26,  15000],\n",
       "       [    29,  28000],\n",
       "       [    29,  83000],\n",
       "       [    35,  44000],\n",
       "       [    35,  25000],\n",
       "       [    28, 123000],\n",
       "       [    35,  73000],\n",
       "       [    28,  37000],\n",
       "       [    27,  88000],\n",
       "       [    28,  59000],\n",
       "       [    32,  86000],\n",
       "       [    33, 149000],\n",
       "       [    19,  21000],\n",
       "       [    21,  72000],\n",
       "       [    26,  35000],\n",
       "       [    27,  89000],\n",
       "       [    26,  86000],\n",
       "       [    38,  80000],\n",
       "       [    39,  71000],\n",
       "       [    37,  71000],\n",
       "       [    38,  61000],\n",
       "       [    37,  55000],\n",
       "       [    42,  80000],\n",
       "       [    40,  57000],\n",
       "       [    35,  75000],\n",
       "       [    36,  52000],\n",
       "       [    40,  59000],\n",
       "       [    41,  59000],\n",
       "       [    36,  75000],\n",
       "       [    37,  72000],\n",
       "       [    40,  75000],\n",
       "       [    35,  53000],\n",
       "       [    41,  51000],\n",
       "       [    39,  61000],\n",
       "       [    42,  65000],\n",
       "       [    26,  32000],\n",
       "       [    30,  17000],\n",
       "       [    26,  84000],\n",
       "       [    31,  58000],\n",
       "       [    33,  31000],\n",
       "       [    30,  87000],\n",
       "       [    21,  68000],\n",
       "       [    28,  55000],\n",
       "       [    23,  63000],\n",
       "       [    20,  82000],\n",
       "       [    30, 107000],\n",
       "       [    28,  59000],\n",
       "       [    19,  25000],\n",
       "       [    19,  85000],\n",
       "       [    18,  68000],\n",
       "       [    35,  59000],\n",
       "       [    30,  89000],\n",
       "       [    34,  25000],\n",
       "       [    24,  89000],\n",
       "       [    27,  96000],\n",
       "       [    41,  30000],\n",
       "       [    29,  61000],\n",
       "       [    20,  74000],\n",
       "       [    26,  15000],\n",
       "       [    41,  45000],\n",
       "       [    31,  76000],\n",
       "       [    36,  50000],\n",
       "       [    40,  47000],\n",
       "       [    31,  15000],\n",
       "       [    46,  59000],\n",
       "       [    29,  75000],\n",
       "       [    26,  30000],\n",
       "       [    32, 135000],\n",
       "       [    32, 100000],\n",
       "       [    25,  90000],\n",
       "       [    37,  33000],\n",
       "       [    35,  38000],\n",
       "       [    33,  69000],\n",
       "       [    18,  86000],\n",
       "       [    22,  55000],\n",
       "       [    35,  71000],\n",
       "       [    29, 148000],\n",
       "       [    29,  47000],\n",
       "       [    21,  88000],\n",
       "       [    34, 115000],\n",
       "       [    26, 118000],\n",
       "       [    34,  43000],\n",
       "       [    34,  72000],\n",
       "       [    23,  28000],\n",
       "       [    35,  47000],\n",
       "       [    25,  22000],\n",
       "       [    24,  23000],\n",
       "       [    31,  34000],\n",
       "       [    26,  16000],\n",
       "       [    31,  71000],\n",
       "       [    32, 117000],\n",
       "       [    33,  43000],\n",
       "       [    33,  60000],\n",
       "       [    31,  66000],\n",
       "       [    20,  82000],\n",
       "       [    33,  41000],\n",
       "       [    35,  72000],\n",
       "       [    28,  32000],\n",
       "       [    24,  84000],\n",
       "       [    19,  26000],\n",
       "       [    29,  43000],\n",
       "       [    19,  70000],\n",
       "       [    28,  89000],\n",
       "       [    34,  43000],\n",
       "       [    30,  79000],\n",
       "       [    20,  36000],\n",
       "       [    26,  80000],\n",
       "       [    35,  22000],\n",
       "       [    35,  39000],\n",
       "       [    49,  74000],\n",
       "       [    39, 134000],\n",
       "       [    41,  71000],\n",
       "       [    58, 101000],\n",
       "       [    47,  47000],\n",
       "       [    55, 130000],\n",
       "       [    52, 114000],\n",
       "       [    40, 142000],\n",
       "       [    46,  22000],\n",
       "       [    48,  96000],\n",
       "       [    52, 150000],\n",
       "       [    59,  42000],\n",
       "       [    35,  58000],\n",
       "       [    47,  43000],\n",
       "       [    60, 108000],\n",
       "       [    49,  65000],\n",
       "       [    40,  78000],\n",
       "       [    46,  96000],\n",
       "       [    59, 143000],\n",
       "       [    41,  80000],\n",
       "       [    35,  91000],\n",
       "       [    37, 144000],\n",
       "       [    60, 102000],\n",
       "       [    35,  60000],\n",
       "       [    37,  53000],\n",
       "       [    36, 126000],\n",
       "       [    56, 133000],\n",
       "       [    40,  72000],\n",
       "       [    42,  80000],\n",
       "       [    35, 147000],\n",
       "       [    39,  42000],\n",
       "       [    40, 107000],\n",
       "       [    49,  86000],\n",
       "       [    38, 112000],\n",
       "       [    46,  79000],\n",
       "       [    40,  57000],\n",
       "       [    37,  80000],\n",
       "       [    46,  82000],\n",
       "       [    53, 143000],\n",
       "       [    42, 149000],\n",
       "       [    38,  59000],\n",
       "       [    50,  88000],\n",
       "       [    56, 104000],\n",
       "       [    41,  72000],\n",
       "       [    51, 146000],\n",
       "       [    35,  50000],\n",
       "       [    57, 122000],\n",
       "       [    41,  52000],\n",
       "       [    35,  97000],\n",
       "       [    44,  39000],\n",
       "       [    37,  52000],\n",
       "       [    48, 134000],\n",
       "       [    37, 146000],\n",
       "       [    50,  44000],\n",
       "       [    52,  90000],\n",
       "       [    41,  72000],\n",
       "       [    40,  57000],\n",
       "       [    58,  95000],\n",
       "       [    45, 131000],\n",
       "       [    35,  77000],\n",
       "       [    36, 144000],\n",
       "       [    55, 125000],\n",
       "       [    35,  72000],\n",
       "       [    48,  90000],\n",
       "       [    42, 108000],\n",
       "       [    40,  75000],\n",
       "       [    37,  74000],\n",
       "       [    47, 144000],\n",
       "       [    40,  61000],\n",
       "       [    43, 133000],\n",
       "       [    59,  76000],\n",
       "       [    60,  42000],\n",
       "       [    39, 106000],\n",
       "       [    57,  26000],\n",
       "       [    57,  74000],\n",
       "       [    38,  71000],\n",
       "       [    49,  88000],\n",
       "       [    52,  38000],\n",
       "       [    50,  36000],\n",
       "       [    59,  88000],\n",
       "       [    35,  61000],\n",
       "       [    37,  70000],\n",
       "       [    52,  21000],\n",
       "       [    48, 141000],\n",
       "       [    37,  93000],\n",
       "       [    37,  62000],\n",
       "       [    48, 138000],\n",
       "       [    41,  79000],\n",
       "       [    37,  78000],\n",
       "       [    39, 134000],\n",
       "       [    49,  89000],\n",
       "       [    55,  39000],\n",
       "       [    37,  77000],\n",
       "       [    35,  57000],\n",
       "       [    36,  63000],\n",
       "       [    42,  73000],\n",
       "       [    43, 112000],\n",
       "       [    45,  79000],\n",
       "       [    46, 117000],\n",
       "       [    58,  38000],\n",
       "       [    48,  74000],\n",
       "       [    37, 137000],\n",
       "       [    37,  79000],\n",
       "       [    40,  60000],\n",
       "       [    42,  54000],\n",
       "       [    51, 134000],\n",
       "       [    47, 113000],\n",
       "       [    36, 125000],\n",
       "       [    38,  50000],\n",
       "       [    42,  70000],\n",
       "       [    39,  96000],\n",
       "       [    38,  50000],\n",
       "       [    49, 141000],\n",
       "       [    39,  79000],\n",
       "       [    39,  75000],\n",
       "       [    54, 104000],\n",
       "       [    35,  55000],\n",
       "       [    45,  32000],\n",
       "       [    36,  60000],\n",
       "       [    52, 138000],\n",
       "       [    53,  82000],\n",
       "       [    41,  52000],\n",
       "       [    48,  30000],\n",
       "       [    48, 131000],\n",
       "       [    41,  60000],\n",
       "       [    41,  72000],\n",
       "       [    42,  75000],\n",
       "       [    36, 118000],\n",
       "       [    47, 107000],\n",
       "       [    38,  51000],\n",
       "       [    48, 119000],\n",
       "       [    42,  65000],\n",
       "       [    40,  65000],\n",
       "       [    57,  60000],\n",
       "       [    36,  54000],\n",
       "       [    58, 144000],\n",
       "       [    35,  79000],\n",
       "       [    38,  55000],\n",
       "       [    39, 122000],\n",
       "       [    53, 104000],\n",
       "       [    35,  75000],\n",
       "       [    38,  65000],\n",
       "       [    47,  51000],\n",
       "       [    47, 105000],\n",
       "       [    41,  63000],\n",
       "       [    53,  72000],\n",
       "       [    54, 108000],\n",
       "       [    39,  77000],\n",
       "       [    38,  61000],\n",
       "       [    38, 113000],\n",
       "       [    37,  75000],\n",
       "       [    42,  90000],\n",
       "       [    37,  57000],\n",
       "       [    36,  99000],\n",
       "       [    60,  34000],\n",
       "       [    54,  70000],\n",
       "       [    41,  72000],\n",
       "       [    40,  71000],\n",
       "       [    42,  54000],\n",
       "       [    43, 129000],\n",
       "       [    53,  34000],\n",
       "       [    47,  50000],\n",
       "       [    42,  79000],\n",
       "       [    42, 104000],\n",
       "       [    59,  29000],\n",
       "       [    58,  47000],\n",
       "       [    46,  88000],\n",
       "       [    38,  71000],\n",
       "       [    54,  26000],\n",
       "       [    60,  46000],\n",
       "       [    60,  83000],\n",
       "       [    39,  73000],\n",
       "       [    59, 130000],\n",
       "       [    37,  80000],\n",
       "       [    46,  32000],\n",
       "       [    46,  74000],\n",
       "       [    42,  53000],\n",
       "       [    41,  87000],\n",
       "       [    58,  23000],\n",
       "       [    42,  64000],\n",
       "       [    48,  33000],\n",
       "       [    44, 139000],\n",
       "       [    49,  28000],\n",
       "       [    57,  33000],\n",
       "       [    56,  60000],\n",
       "       [    49,  39000],\n",
       "       [    39,  71000],\n",
       "       [    47,  34000],\n",
       "       [    48,  35000],\n",
       "       [    48,  33000],\n",
       "       [    47,  23000],\n",
       "       [    45,  45000],\n",
       "       [    60,  42000],\n",
       "       [    39,  59000],\n",
       "       [    46,  41000],\n",
       "       [    51,  23000],\n",
       "       [    50,  20000],\n",
       "       [    36,  33000],\n",
       "       [    49,  36000]], dtype=int64)"
      ]
     },
     "execution_count": 8,
     "metadata": {},
     "output_type": "execute_result"
    }
   ],
   "source": [
    "X"
   ]
  },
  {
   "cell_type": "code",
   "execution_count": 9,
   "metadata": {},
   "outputs": [
    {
     "data": {
      "text/plain": [
       "array([0, 0, 0, 0, 0, 0, 0, 1, 0, 0, 0, 0, 0, 0, 0, 0, 1, 1, 1, 1, 1, 1,\n",
       "       1, 1, 1, 1, 1, 1, 0, 0, 0, 1, 0, 0, 0, 0, 0, 0, 0, 0, 0, 0, 0, 0,\n",
       "       0, 0, 0, 0, 1, 0, 0, 0, 0, 0, 0, 0, 0, 0, 0, 0, 0, 0, 0, 1, 0, 0,\n",
       "       0, 0, 0, 0, 0, 0, 0, 0, 0, 1, 0, 0, 0, 0, 0, 0, 0, 0, 0, 1, 0, 0,\n",
       "       0, 0, 0, 0, 0, 0, 0, 0, 0, 1, 0, 0, 0, 0, 0, 1, 0, 0, 0, 0, 0, 0,\n",
       "       0, 0, 0, 0, 0, 0, 0, 0, 0, 0, 0, 0, 0, 0, 0, 0, 0, 0, 0, 0, 0, 0,\n",
       "       0, 0, 0, 0, 0, 1, 0, 0, 0, 0, 0, 0, 0, 0, 1, 0, 0, 0, 0, 0, 0, 0,\n",
       "       0, 0, 0, 0, 0, 1, 1, 0, 0, 0, 0, 0, 0, 0, 1, 0, 0, 0, 0, 0, 0, 0,\n",
       "       0, 0, 0, 0, 0, 0, 1, 0, 0, 0, 0, 0, 0, 0, 0, 0, 0, 0, 0, 0, 0, 0,\n",
       "       0, 0, 0, 0, 1, 0, 1, 0, 1, 0, 1, 0, 1, 1, 0, 0, 0, 1, 0, 0, 0, 1,\n",
       "       0, 1, 1, 1, 0, 0, 1, 1, 0, 1, 1, 0, 1, 1, 0, 1, 0, 0, 0, 1, 1, 0,\n",
       "       1, 1, 0, 1, 0, 1, 0, 1, 0, 0, 1, 1, 0, 1, 0, 0, 1, 1, 0, 1, 1, 0,\n",
       "       1, 1, 0, 0, 1, 0, 0, 1, 1, 1, 1, 1, 0, 1, 1, 1, 1, 0, 1, 1, 0, 1,\n",
       "       0, 1, 0, 1, 1, 1, 1, 0, 0, 0, 1, 1, 0, 1, 1, 1, 1, 1, 0, 0, 0, 1,\n",
       "       1, 0, 0, 1, 0, 1, 0, 1, 1, 0, 1, 0, 1, 1, 0, 1, 1, 0, 0, 0, 1, 1,\n",
       "       0, 1, 0, 0, 1, 0, 1, 0, 0, 1, 1, 0, 0, 1, 1, 0, 1, 1, 0, 0, 1, 0,\n",
       "       1, 0, 1, 1, 1, 0, 1, 0, 1, 1, 1, 0, 1, 1, 1, 1, 0, 1, 1, 1, 0, 1,\n",
       "       0, 1, 0, 0, 1, 1, 0, 1, 1, 1, 1, 1, 1, 0, 1, 1, 1, 1, 1, 1, 0, 1,\n",
       "       1, 1, 0, 1], dtype=int64)"
      ]
     },
     "execution_count": 9,
     "metadata": {},
     "output_type": "execute_result"
    }
   ],
   "source": [
    "y"
   ]
  },
  {
   "cell_type": "code",
   "execution_count": 4,
   "metadata": {},
   "outputs": [
    {
     "data": {
      "text/plain": [
       "array([0, 1], dtype=int64)"
      ]
     },
     "execution_count": 4,
     "metadata": {},
     "output_type": "execute_result"
    }
   ],
   "source": [
    "dataset[\"Purchased\"].unique()"
   ]
  },
  {
   "cell_type": "code",
   "execution_count": 11,
   "metadata": {},
   "outputs": [
    {
     "data": {
      "text/plain": [
       "0    257\n",
       "1    143\n",
       "Name: Purchased, dtype: int64"
      ]
     },
     "execution_count": 11,
     "metadata": {},
     "output_type": "execute_result"
    }
   ],
   "source": [
    "dataset['Purchased'].value_counts()"
   ]
  },
  {
   "cell_type": "code",
   "execution_count": null,
   "metadata": {},
   "outputs": [],
   "source": []
  },
  {
   "cell_type": "code",
   "execution_count": null,
   "metadata": {},
   "outputs": [],
   "source": []
  },
  {
   "cell_type": "code",
   "execution_count": null,
   "metadata": {},
   "outputs": [],
   "source": []
  },
  {
   "cell_type": "code",
   "execution_count": null,
   "metadata": {},
   "outputs": [],
   "source": []
  },
  {
   "cell_type": "markdown",
   "metadata": {
    "colab_type": "text",
    "id": "YvxIPVyMhmKp"
   },
   "source": [
    "## Splitting the dataset into the Training set and Test set"
   ]
  },
  {
   "cell_type": "code",
   "execution_count": 12,
   "metadata": {
    "colab": {},
    "colab_type": "code",
    "id": "AVzJWAXIhxoC"
   },
   "outputs": [],
   "source": [
    "from sklearn.model_selection import train_test_split\n",
    "X_train, X_test, y_train, y_test = train_test_split(X, y, test_size = 0.25, random_state = 10)"
   ]
  },
  {
   "cell_type": "code",
   "execution_count": 13,
   "metadata": {
    "colab": {
     "base_uri": "https://localhost:8080/",
     "height": 1000
    },
    "colab_type": "code",
    "executionInfo": {
     "elapsed": 2163,
     "status": "ok",
     "timestamp": 1588265315502,
     "user": {
      "displayName": "Hadelin de Ponteves",
      "photoUrl": "https://lh3.googleusercontent.com/a-/AOh14GhEuXdT7eQweUmRPW8_laJuPggSK6hfvpl5a6WBaA=s64",
      "userId": "15047218817161520419"
     },
     "user_tz": -240
    },
    "id": "P3nS3-6r1i2B",
    "outputId": "75d6e0cf-d13b-42cf-a353-888682415d37"
   },
   "outputs": [
    {
     "name": "stdout",
     "output_type": "stream",
     "text": [
      "[[    28  79000]\n",
      " [    28  85000]\n",
      " [    41  72000]\n",
      " [    60  34000]\n",
      " [    46  82000]\n",
      " [    47  34000]\n",
      " [    33  69000]\n",
      " [    26  15000]\n",
      " [    36 144000]\n",
      " [    35  38000]\n",
      " [    31  18000]\n",
      " [    52 114000]\n",
      " [    34  43000]\n",
      " [    25  80000]\n",
      " [    53  72000]\n",
      " [    45  26000]\n",
      " [    37  53000]\n",
      " [    60 102000]\n",
      " [    32 117000]\n",
      " [    42  80000]\n",
      " [    49  36000]\n",
      " [    47  20000]\n",
      " [    50  36000]\n",
      " [    35  77000]\n",
      " [    31  58000]\n",
      " [    42  64000]\n",
      " [    43 129000]\n",
      " [    45  22000]\n",
      " [    29  43000]\n",
      " [    58  95000]\n",
      " [    41  51000]\n",
      " [    35  97000]\n",
      " [    29  75000]\n",
      " [    40  57000]\n",
      " [    41  30000]\n",
      " [    57  74000]\n",
      " [    45  32000]\n",
      " [    33  28000]\n",
      " [    35 147000]\n",
      " [    35  61000]\n",
      " [    39  73000]\n",
      " [    49  89000]\n",
      " [    48  30000]\n",
      " [    51 146000]\n",
      " [    27  96000]\n",
      " [    54 104000]\n",
      " [    35  27000]\n",
      " [    41  72000]\n",
      " [    48  29000]\n",
      " [    46  96000]\n",
      " [    40  61000]\n",
      " [    26  86000]\n",
      " [    27  58000]\n",
      " [    34  72000]\n",
      " [    58  38000]\n",
      " [    47  51000]\n",
      " [    55 125000]\n",
      " [    19  21000]\n",
      " [    51  23000]\n",
      " [    52 150000]\n",
      " [    27  20000]\n",
      " [    47  49000]\n",
      " [    46 117000]\n",
      " [    26  35000]\n",
      " [    19  25000]\n",
      " [    26  32000]\n",
      " [    31  89000]\n",
      " [    50  88000]\n",
      " [    22  18000]\n",
      " [    35  71000]\n",
      " [    34 112000]\n",
      " [    41  79000]\n",
      " [    39  71000]\n",
      " [    40  75000]\n",
      " [    29  61000]\n",
      " [    26  72000]\n",
      " [    37 137000]\n",
      " [    33  60000]\n",
      " [    37  52000]\n",
      " [    28  32000]\n",
      " [    30  87000]\n",
      " [    36  52000]\n",
      " [    48  74000]\n",
      " [    22  63000]\n",
      " [    35  72000]\n",
      " [    19  19000]\n",
      " [    24  32000]\n",
      " [    35  57000]\n",
      " [    46  74000]\n",
      " [    36 118000]\n",
      " [    24  55000]\n",
      " [    47 107000]\n",
      " [    42 149000]\n",
      " [    36 125000]\n",
      " [    35  88000]\n",
      " [    31  15000]\n",
      " [    39 134000]\n",
      " [    27  89000]\n",
      " [    32 120000]\n",
      " [    26  84000]\n",
      " [    35  79000]\n",
      " [    42  73000]\n",
      " [    54 108000]\n",
      " [    42  70000]\n",
      " [    40  72000]\n",
      " [    20  36000]\n",
      " [    20  82000]\n",
      " [    24  55000]\n",
      " [    37  70000]\n",
      " [    32 100000]\n",
      " [    25  79000]\n",
      " [    35  72000]\n",
      " [    37  33000]\n",
      " [    39  75000]\n",
      " [    38  55000]\n",
      " [    35  47000]\n",
      " [    30  62000]\n",
      " [    58 144000]\n",
      " [    40  71000]\n",
      " [    35  75000]\n",
      " [    38  71000]\n",
      " [    43 133000]\n",
      " [    19  70000]\n",
      " [    26  43000]\n",
      " [    30 107000]\n",
      " [    40  57000]\n",
      " [    38 113000]\n",
      " [    35  75000]\n",
      " [    36  75000]\n",
      " [    26  80000]\n",
      " [    42 104000]\n",
      " [    30  79000]\n",
      " [    58 101000]\n",
      " [    26  16000]\n",
      " [    49  28000]\n",
      " [    42  54000]\n",
      " [    21  16000]\n",
      " [    48 131000]\n",
      " [    32 150000]\n",
      " [    35  65000]\n",
      " [    33 149000]\n",
      " [    30 116000]\n",
      " [    27  31000]\n",
      " [    29  43000]\n",
      " [    37  57000]\n",
      " [    60 108000]\n",
      " [    36  54000]\n",
      " [    25  90000]\n",
      " [    29  47000]\n",
      " [    60  46000]\n",
      " [    24  84000]\n",
      " [    45 131000]\n",
      " [    48 138000]\n",
      " [    55 130000]\n",
      " [    36  50000]\n",
      " [    40  78000]\n",
      " [    39  59000]\n",
      " [    31  74000]\n",
      " [    52  90000]\n",
      " [    35  58000]\n",
      " [    20  82000]\n",
      " [    57  60000]\n",
      " [    38  50000]\n",
      " [    29 148000]\n",
      " [    48  35000]\n",
      " [    42  80000]\n",
      " [    35  60000]\n",
      " [    34 115000]\n",
      " [    49  88000]\n",
      " [    37  74000]\n",
      " [    40  57000]\n",
      " [    39  79000]\n",
      " [    30 135000]\n",
      " [    36  99000]\n",
      " [    42  75000]\n",
      " [    36  60000]\n",
      " [    20  49000]\n",
      " [    35  44000]\n",
      " [    23  82000]\n",
      " [    35  25000]\n",
      " [    48  41000]\n",
      " [    50  44000]\n",
      " [    41  72000]\n",
      " [    38  50000]\n",
      " [    32 135000]\n",
      " [    47 113000]\n",
      " [    34  25000]\n",
      " [    46  22000]\n",
      " [    59  29000]\n",
      " [    53  34000]\n",
      " [    22  81000]\n",
      " [    33  51000]\n",
      " [    49  86000]\n",
      " [    43 112000]\n",
      " [    41  60000]\n",
      " [    35  23000]\n",
      " [    24  23000]\n",
      " [    39 106000]\n",
      " [    47  23000]\n",
      " [    35  55000]\n",
      " [    18  44000]\n",
      " [    18  82000]\n",
      " [    41  52000]\n",
      " [    60  42000]\n",
      " [    37  93000]\n",
      " [    27  57000]\n",
      " [    45  22000]\n",
      " [    30  17000]\n",
      " [    18  86000]\n",
      " [    49  74000]\n",
      " [    23  20000]\n",
      " [    40  65000]\n",
      " [    46  79000]\n",
      " [    42  54000]\n",
      " [    37  80000]\n",
      " [    35 108000]\n",
      " [    40 107000]\n",
      " [    26  17000]\n",
      " [    31  66000]\n",
      " [    41  87000]\n",
      " [    41  80000]\n",
      " [    47 144000]\n",
      " [    38  61000]\n",
      " [    26  52000]\n",
      " [    26  15000]\n",
      " [    38 112000]\n",
      " [    31 118000]\n",
      " [    35  50000]\n",
      " [    28  55000]\n",
      " [    30  89000]\n",
      " [    59  76000]\n",
      " [    39 134000]\n",
      " [    32 117000]\n",
      " [    51 134000]\n",
      " [    41  63000]\n",
      " [    19  76000]\n",
      " [    21  68000]\n",
      " [    28  84000]\n",
      " [    44  39000]\n",
      " [    37  78000]\n",
      " [    48 141000]\n",
      " [    41  71000]\n",
      " [    23  63000]\n",
      " [    24  89000]\n",
      " [    48  33000]\n",
      " [    24  27000]\n",
      " [    40  59000]\n",
      " [    46  32000]\n",
      " [    50  20000]\n",
      " [    49  65000]\n",
      " [    32  18000]\n",
      " [    60  42000]\n",
      " [    41  52000]\n",
      " [    29  83000]\n",
      " [    49  39000]\n",
      " [    29  28000]\n",
      " [    46  28000]\n",
      " [    52  21000]\n",
      " [    55  39000]\n",
      " [    49 141000]\n",
      " [    27 137000]\n",
      " [    53  82000]\n",
      " [    19  85000]\n",
      " [    35  50000]\n",
      " [    26  30000]\n",
      " [    37  62000]\n",
      " [    38  65000]\n",
      " [    39  77000]\n",
      " [    18  68000]\n",
      " [    56 104000]\n",
      " [    32  18000]\n",
      " [    22  27000]\n",
      " [    44 139000]\n",
      " [    31  34000]\n",
      " [    25  22000]\n",
      " [    57  33000]\n",
      " [    35  39000]\n",
      " [    28  44000]\n",
      " [    23  66000]\n",
      " [    40  75000]\n",
      " [    42  79000]\n",
      " [    47 105000]\n",
      " [    27  58000]\n",
      " [    53 143000]\n",
      " [    54  70000]\n",
      " [    47  25000]\n",
      " [    60  83000]\n",
      " [    27  17000]\n",
      " [    41  72000]\n",
      " [    33 113000]\n",
      " [    25  33000]\n",
      " [    46  41000]\n",
      " [    35  91000]\n",
      " [    46  59000]\n",
      " [    35  53000]\n",
      " [    54  26000]\n",
      " [    52 138000]\n",
      " [    29  80000]\n",
      " [    39  61000]\n",
      " [    42 108000]]\n"
     ]
    }
   ],
   "source": [
    "print(X_train)"
   ]
  },
  {
   "cell_type": "code",
   "execution_count": 14,
   "metadata": {
    "colab": {
     "base_uri": "https://localhost:8080/",
     "height": 171
    },
    "colab_type": "code",
    "executionInfo": {
     "elapsed": 2158,
     "status": "ok",
     "timestamp": 1588265315502,
     "user": {
      "displayName": "Hadelin de Ponteves",
      "photoUrl": "https://lh3.googleusercontent.com/a-/AOh14GhEuXdT7eQweUmRPW8_laJuPggSK6hfvpl5a6WBaA=s64",
      "userId": "15047218817161520419"
     },
     "user_tz": -240
    },
    "id": "8dpDLojm1mVG",
    "outputId": "7ae11087-76ab-4027-c94e-9eb18f7573bf"
   },
   "outputs": [
    {
     "name": "stdout",
     "output_type": "stream",
     "text": [
      "[0 0 0 1 0 1 0 0 1 0 0 0 0 0 1 1 0 1 0 0 1 1 1 0 0 0 1 1 0 1 0 1 0 0 0 1 1\n",
      " 0 1 0 0 1 1 1 1 1 0 0 1 0 0 0 0 0 1 1 1 0 1 1 0 1 1 0 0 0 0 1 0 0 1 0 0 0\n",
      " 0 0 1 0 0 0 0 0 1 0 0 0 0 0 0 1 0 1 1 1 0 0 1 0 1 0 0 1 1 0 0 0 0 0 1 1 0\n",
      " 0 0 1 0 0 0 1 1 0 0 0 0 0 1 0 1 0 0 0 1 0 1 0 1 0 0 1 1 0 1 0 0 0 0 1 0 0\n",
      " 0 1 0 1 1 1 0 0 0 0 1 0 0 1 0 1 1 1 0 0 1 0 0 0 1 1 0 0 0 0 0 0 1 0 0 0 1\n",
      " 1 0 0 1 1 0 0 1 1 0 0 0 1 1 0 0 0 0 1 1 0 1 0 0 0 0 0 1 0 0 0 1 0 0 1 0 1\n",
      " 0 0 0 0 1 0 0 0 1 1 1 0 0 0 0 0 0 1 0 0 0 0 1 0 0 1 1 0 0 1 0 0 1 0 1 1 1\n",
      " 1 1 1 0 0 0 0 0 0 0 1 0 0 1 0 0 1 0 0 0 0 0 1 0 1 1 1 1 0 0 0 0 1 1 0 0 1\n",
      " 1 0 0 1]\n"
     ]
    }
   ],
   "source": [
    "print(y_train)"
   ]
  },
  {
   "cell_type": "code",
   "execution_count": 15,
   "metadata": {
    "colab": {
     "base_uri": "https://localhost:8080/",
     "height": 1000
    },
    "colab_type": "code",
    "executionInfo": {
     "elapsed": 2154,
     "status": "ok",
     "timestamp": 1588265315503,
     "user": {
      "displayName": "Hadelin de Ponteves",
      "photoUrl": "https://lh3.googleusercontent.com/a-/AOh14GhEuXdT7eQweUmRPW8_laJuPggSK6hfvpl5a6WBaA=s64",
      "userId": "15047218817161520419"
     },
     "user_tz": -240
    },
    "id": "qbb7i0DH1qui",
    "outputId": "94e717d7-fa9a-4e22-9c68-d43421cbfb92"
   },
   "outputs": [
    {
     "name": "stdout",
     "output_type": "stream",
     "text": [
      "[[    42  65000]\n",
      " [    37  71000]\n",
      " [    42  90000]\n",
      " [    47  47000]\n",
      " [    23  48000]\n",
      " [    58  23000]\n",
      " [    39  42000]\n",
      " [    47  43000]\n",
      " [    35  59000]\n",
      " [    39  71000]\n",
      " [    41  59000]\n",
      " [    26 118000]\n",
      " [    59 130000]\n",
      " [    57  26000]\n",
      " [    46  23000]\n",
      " [    38  71000]\n",
      " [    28  87000]\n",
      " [    24  58000]\n",
      " [    30  15000]\n",
      " [    39 122000]\n",
      " [    27  54000]\n",
      " [    21  72000]\n",
      " [    37  75000]\n",
      " [    59  88000]\n",
      " [    58  47000]\n",
      " [    37  55000]\n",
      " [    38  59000]\n",
      " [    37 146000]\n",
      " [    48  33000]\n",
      " [    36  33000]\n",
      " [    35  20000]\n",
      " [    27  84000]\n",
      " [    33  43000]\n",
      " [    49  28000]\n",
      " [    48 119000]\n",
      " [    34  43000]\n",
      " [    46  88000]\n",
      " [    40 142000]\n",
      " [    40  47000]\n",
      " [    28  59000]\n",
      " [    41  45000]\n",
      " [    45  45000]\n",
      " [    24  19000]\n",
      " [    30  49000]\n",
      " [    36  63000]\n",
      " [    33  31000]\n",
      " [    48 134000]\n",
      " [    39  42000]\n",
      " [    37  80000]\n",
      " [    20  86000]\n",
      " [    28 123000]\n",
      " [    36 126000]\n",
      " [    47  50000]\n",
      " [    35  73000]\n",
      " [    42  53000]\n",
      " [    37  77000]\n",
      " [    48  90000]\n",
      " [    26  81000]\n",
      " [    52  38000]\n",
      " [    59 143000]\n",
      " [    25  87000]\n",
      " [    48  96000]\n",
      " [    38  51000]\n",
      " [    37 144000]\n",
      " [    57 122000]\n",
      " [    45  79000]\n",
      " [    42  65000]\n",
      " [    56 133000]\n",
      " [    20  23000]\n",
      " [    38  80000]\n",
      " [    37  72000]\n",
      " [    39  96000]\n",
      " [    28  37000]\n",
      " [    28  59000]\n",
      " [    29  83000]\n",
      " [    40  60000]\n",
      " [    33  41000]\n",
      " [    22  55000]\n",
      " [    59  83000]\n",
      " [    47  30000]\n",
      " [    37  79000]\n",
      " [    38  61000]\n",
      " [    20  74000]\n",
      " [    27  88000]\n",
      " [    23  28000]\n",
      " [    32  86000]\n",
      " [    21  88000]\n",
      " [    28  89000]\n",
      " [    19  26000]\n",
      " [    31  76000]\n",
      " [    56  60000]\n",
      " [    31  68000]\n",
      " [    35  22000]\n",
      " [    59  42000]\n",
      " [    26  80000]\n",
      " [    18  52000]\n",
      " [    53 104000]\n",
      " [    27  90000]\n",
      " [    31  71000]\n",
      " [    30  80000]]\n"
     ]
    }
   ],
   "source": [
    "print(X_test)"
   ]
  },
  {
   "cell_type": "code",
   "execution_count": 16,
   "metadata": {
    "colab": {
     "base_uri": "https://localhost:8080/",
     "height": 68
    },
    "colab_type": "code",
    "executionInfo": {
     "elapsed": 2149,
     "status": "ok",
     "timestamp": 1588265315503,
     "user": {
      "displayName": "Hadelin de Ponteves",
      "photoUrl": "https://lh3.googleusercontent.com/a-/AOh14GhEuXdT7eQweUmRPW8_laJuPggSK6hfvpl5a6WBaA=s64",
      "userId": "15047218817161520419"
     },
     "user_tz": -240
    },
    "id": "kj1hnFAR1s5w",
    "outputId": "ec9924c4-6d8a-4f20-dbf9-272fbaa24f92"
   },
   "outputs": [
    {
     "name": "stdout",
     "output_type": "stream",
     "text": [
      "[0 0 1 0 0 1 0 0 0 0 0 0 1 1 1 0 0 0 0 1 0 0 0 1 1 0 0 1 1 0 0 0 0 1 1 0 1\n",
      " 1 0 0 0 1 0 0 0 0 1 0 0 0 1 1 1 0 0 0 1 0 1 1 0 1 0 1 1 0 0 1 0 0 0 1 0 0\n",
      " 0 0 0 0 0 1 1 0 0 0 0 0 0 0 0 0 1 0 0 0 0 0 1 0 0 0]\n"
     ]
    }
   ],
   "source": [
    "print(y_test)"
   ]
  },
  {
   "cell_type": "markdown",
   "metadata": {
    "colab_type": "text",
    "id": "kW3c7UYih0hT"
   },
   "source": [
    "## Feature Scaling"
   ]
  },
  {
   "cell_type": "code",
   "execution_count": 17,
   "metadata": {
    "colab": {},
    "colab_type": "code",
    "id": "9fQlDPKCh8sc"
   },
   "outputs": [],
   "source": [
    "from sklearn.preprocessing import StandardScaler\n",
    "sc = StandardScaler()\n",
    "X_train = sc.fit_transform(X_train)\n",
    "X_test = sc.transform(X_test)"
   ]
  },
  {
   "cell_type": "code",
   "execution_count": 18,
   "metadata": {
    "colab": {
     "base_uri": "https://localhost:8080/",
     "height": 1000
    },
    "colab_type": "code",
    "executionInfo": {
     "elapsed": 2139,
     "status": "ok",
     "timestamp": 1588265315503,
     "user": {
      "displayName": "Hadelin de Ponteves",
      "photoUrl": "https://lh3.googleusercontent.com/a-/AOh14GhEuXdT7eQweUmRPW8_laJuPggSK6hfvpl5a6WBaA=s64",
      "userId": "15047218817161520419"
     },
     "user_tz": -240
    },
    "id": "syrnD1Op2BSR",
    "outputId": "711172c9-25a5-4c03-e835-6ab94766bdc0"
   },
   "outputs": [
    {
     "name": "stdout",
     "output_type": "stream",
     "text": [
      "[[-9.38945183e-01  2.60499518e-01]\n",
      " [-9.38945183e-01  4.33270017e-01]\n",
      " [ 3.17707601e-01  5.89339367e-02]\n",
      " [ 2.15435398e+00 -1.03527922e+00]\n",
      " [ 8.01035595e-01  3.46884767e-01]\n",
      " [ 8.97701194e-01 -1.03527922e+00]\n",
      " [-4.55617189e-01 -2.74513125e-02]\n",
      " [-1.13227638e+00 -1.58238580e+00]\n",
      " [-1.65620393e-01  2.13217992e+00]\n",
      " [-2.62285991e-01 -9.20098888e-01]\n",
      " [-6.48948387e-01 -1.49600055e+00]\n",
      " [ 1.38102919e+00  1.26832743e+00]\n",
      " [-3.58951590e-01 -7.76123472e-01]\n",
      " [-1.22894198e+00  2.89294601e-01]\n",
      " [ 1.47769479e+00  5.89339367e-02]\n",
      " [ 7.04369997e-01 -1.26563988e+00]\n",
      " [-6.89547938e-02 -4.88172642e-01]\n",
      " [ 2.15435398e+00  9.22786429e-01]\n",
      " [-5.52282788e-01  1.35471267e+00]\n",
      " [ 4.14373200e-01  2.89294601e-01]\n",
      " [ 1.09103239e+00 -9.77689054e-01]\n",
      " [ 8.97701194e-01 -1.43841038e+00]\n",
      " [ 1.18769799e+00 -9.77689054e-01]\n",
      " [-2.62285991e-01  2.02909352e-01]\n",
      " [-6.48948387e-01 -3.44197226e-01]\n",
      " [ 4.14373200e-01 -1.71426728e-01]\n",
      " [ 5.11038799e-01  1.70025367e+00]\n",
      " [ 7.04369997e-01 -1.38082022e+00]\n",
      " [-8.42279584e-01 -7.76123472e-01]\n",
      " [ 1.96102278e+00  7.21220847e-01]\n",
      " [ 3.17707601e-01 -5.45762808e-01]\n",
      " [-2.62285991e-01  7.78811013e-01]\n",
      " [-8.42279584e-01  1.45319186e-01]\n",
      " [ 2.21042003e-01 -3.72992309e-01]\n",
      " [ 3.17707601e-01 -1.15045955e+00]\n",
      " [ 1.86435718e+00  1.16524103e-01]\n",
      " [ 7.04369997e-01 -1.09286939e+00]\n",
      " [-4.55617189e-01 -1.20804972e+00]\n",
      " [-2.62285991e-01  2.21856517e+00]\n",
      " [-2.62285991e-01 -2.57811977e-01]\n",
      " [ 1.24376404e-01  8.77290198e-02]\n",
      " [ 1.09103239e+00  5.48450349e-01]\n",
      " [ 9.94366793e-01 -1.15045955e+00]\n",
      " [ 1.28436359e+00  2.18977008e+00]\n",
      " [-1.03561078e+00  7.50015930e-01]\n",
      " [ 1.57436039e+00  9.80376595e-01]\n",
      " [-2.62285991e-01 -1.23684480e+00]\n",
      " [ 3.17707601e-01  5.89339367e-02]\n",
      " [ 9.94366793e-01 -1.17925464e+00]\n",
      " [ 8.01035595e-01  7.50015930e-01]\n",
      " [ 2.21042003e-01 -2.57811977e-01]\n",
      " [-1.13227638e+00  4.62065100e-01]\n",
      " [-1.03561078e+00 -3.44197226e-01]\n",
      " [-3.58951590e-01  5.89339367e-02]\n",
      " [ 1.96102278e+00 -9.20098888e-01]\n",
      " [ 8.97701194e-01 -5.45762808e-01]\n",
      " [ 1.67102598e+00  1.58507334e+00]\n",
      " [-1.80893557e+00 -1.40961530e+00]\n",
      " [ 1.28436359e+00 -1.35202513e+00]\n",
      " [ 1.38102919e+00  2.30495042e+00]\n",
      " [-1.03561078e+00 -1.43841038e+00]\n",
      " [ 8.97701194e-01 -6.03352974e-01]\n",
      " [ 8.01035595e-01  1.35471267e+00]\n",
      " [-1.13227638e+00 -1.00648414e+00]\n",
      " [-1.80893557e+00 -1.29443497e+00]\n",
      " [-1.13227638e+00 -1.09286939e+00]\n",
      " [-6.48948387e-01  5.48450349e-01]\n",
      " [ 1.18769799e+00  5.19655266e-01]\n",
      " [-1.51893878e+00 -1.49600055e+00]\n",
      " [-2.62285991e-01  3.01388536e-02]\n",
      " [-3.58951590e-01  1.21073726e+00]\n",
      " [ 3.17707601e-01  2.60499518e-01]\n",
      " [ 1.24376404e-01  3.01388536e-02]\n",
      " [ 2.21042003e-01  1.45319186e-01]\n",
      " [-8.42279584e-01 -2.57811977e-01]\n",
      " [-1.13227638e+00  5.89339367e-02]\n",
      " [-6.89547938e-02  1.93061434e+00]\n",
      " [-4.55617189e-01 -2.86607060e-01]\n",
      " [-6.89547938e-02 -5.16967725e-01]\n",
      " [-9.38945183e-01 -1.09286939e+00]\n",
      " [-7.45613985e-01  4.90860183e-01]\n",
      " [-1.65620393e-01 -5.16967725e-01]\n",
      " [ 9.94366793e-01  1.16524103e-01]\n",
      " [-1.51893878e+00 -2.00221811e-01]\n",
      " [-2.62285991e-01  5.89339367e-02]\n",
      " [-1.80893557e+00 -1.46720547e+00]\n",
      " [-1.32560758e+00 -1.09286939e+00]\n",
      " [-2.62285991e-01 -3.72992309e-01]\n",
      " [ 8.01035595e-01  1.16524103e-01]\n",
      " [-1.65620393e-01  1.38350776e+00]\n",
      " [-1.32560758e+00 -4.30582476e-01]\n",
      " [ 8.97701194e-01  1.06676184e+00]\n",
      " [ 4.14373200e-01  2.27615533e+00]\n",
      " [-1.65620393e-01  1.58507334e+00]\n",
      " [-2.62285991e-01  5.19655266e-01]\n",
      " [-6.48948387e-01 -1.58238580e+00]\n",
      " [ 1.24376404e-01  1.84422909e+00]\n",
      " [-1.03561078e+00  5.48450349e-01]\n",
      " [-5.52282788e-01  1.44109792e+00]\n",
      " [-1.13227638e+00  4.04474934e-01]\n",
      " [-2.62285991e-01  2.60499518e-01]\n",
      " [ 4.14373200e-01  8.77290198e-02]\n",
      " [ 1.57436039e+00  1.09555693e+00]\n",
      " [ 4.14373200e-01  1.34377054e-03]\n",
      " [ 2.21042003e-01  5.89339367e-02]\n",
      " [-1.71226997e+00 -9.77689054e-01]\n",
      " [-1.71226997e+00  3.46884767e-01]\n",
      " [-1.32560758e+00 -4.30582476e-01]\n",
      " [-6.89547938e-02  1.34377054e-03]\n",
      " [-5.52282788e-01  8.65196263e-01]\n",
      " [-1.22894198e+00  2.60499518e-01]\n",
      " [-2.62285991e-01  5.89339367e-02]\n",
      " [-6.89547938e-02 -1.06407430e+00]\n",
      " [ 1.24376404e-01  1.45319186e-01]\n",
      " [ 2.77108050e-02 -4.30582476e-01]\n",
      " [-2.62285991e-01 -6.60943140e-01]\n",
      " [-7.45613985e-01 -2.29016894e-01]\n",
      " [ 1.96102278e+00  2.13217992e+00]\n",
      " [ 2.21042003e-01  3.01388536e-02]\n",
      " [-2.62285991e-01  1.45319186e-01]\n",
      " [ 2.77108050e-02  3.01388536e-02]\n",
      " [ 5.11038799e-01  1.81543400e+00]\n",
      " [-1.80893557e+00  1.34377054e-03]\n",
      " [-1.13227638e+00 -7.76123472e-01]\n",
      " [-7.45613985e-01  1.06676184e+00]\n",
      " [ 2.21042003e-01 -3.72992309e-01]\n",
      " [ 2.77108050e-02  1.23953234e+00]\n",
      " [-2.62285991e-01  1.45319186e-01]\n",
      " [-1.65620393e-01  1.45319186e-01]\n",
      " [-1.13227638e+00  2.89294601e-01]\n",
      " [ 4.14373200e-01  9.80376595e-01]\n",
      " [-7.45613985e-01  2.60499518e-01]\n",
      " [ 1.96102278e+00  8.93991346e-01]\n",
      " [-1.13227638e+00 -1.55359072e+00]\n",
      " [ 1.09103239e+00 -1.20804972e+00]\n",
      " [ 4.14373200e-01 -4.59377559e-01]\n",
      " [-1.61560437e+00 -1.55359072e+00]\n",
      " [ 9.94366793e-01  1.75784384e+00]\n",
      " [-5.52282788e-01  2.30495042e+00]\n",
      " [-2.62285991e-01 -1.42631645e-01]\n",
      " [-4.55617189e-01  2.27615533e+00]\n",
      " [-7.45613985e-01  1.32591759e+00]\n",
      " [-1.03561078e+00 -1.12166447e+00]\n",
      " [-8.42279584e-01 -7.76123472e-01]\n",
      " [-6.89547938e-02 -3.72992309e-01]\n",
      " [ 2.15435398e+00  1.09555693e+00]\n",
      " [-1.65620393e-01 -4.59377559e-01]\n",
      " [-1.22894198e+00  5.77245432e-01]\n",
      " [-8.42279584e-01 -6.60943140e-01]\n",
      " [ 2.15435398e+00 -6.89738223e-01]\n",
      " [-1.32560758e+00  4.04474934e-01]\n",
      " [ 7.04369997e-01  1.75784384e+00]\n",
      " [ 9.94366793e-01  1.95940942e+00]\n",
      " [ 1.67102598e+00  1.72904875e+00]\n",
      " [-1.65620393e-01 -5.74557891e-01]\n",
      " [ 2.21042003e-01  2.31704435e-01]\n",
      " [ 1.24376404e-01 -3.15402143e-01]\n",
      " [-6.48948387e-01  1.16524103e-01]\n",
      " [ 1.38102919e+00  5.77245432e-01]\n",
      " [-2.62285991e-01 -3.44197226e-01]\n",
      " [-1.71226997e+00  3.46884767e-01]\n",
      " [ 1.86435718e+00 -2.86607060e-01]\n",
      " [ 2.77108050e-02 -5.74557891e-01]\n",
      " [-8.42279584e-01  2.24736025e+00]\n",
      " [ 9.94366793e-01 -1.00648414e+00]\n",
      " [ 4.14373200e-01  2.89294601e-01]\n",
      " [-2.62285991e-01 -2.86607060e-01]\n",
      " [-3.58951590e-01  1.29712251e+00]\n",
      " [ 1.09103239e+00  5.19655266e-01]\n",
      " [-6.89547938e-02  1.16524103e-01]\n",
      " [ 2.21042003e-01 -3.72992309e-01]\n",
      " [ 1.24376404e-01  2.60499518e-01]\n",
      " [-7.45613985e-01  1.87302417e+00]\n",
      " [-1.65620393e-01  8.36401180e-01]\n",
      " [ 4.14373200e-01  1.45319186e-01]\n",
      " [-1.65620393e-01 -2.86607060e-01]\n",
      " [-1.71226997e+00 -6.03352974e-01]\n",
      " [-2.62285991e-01 -7.47328389e-01]\n",
      " [-1.42227318e+00  3.46884767e-01]\n",
      " [-2.62285991e-01 -1.29443497e+00]\n",
      " [ 9.94366793e-01 -8.33713639e-01]\n",
      " [ 1.18769799e+00 -7.47328389e-01]\n",
      " [ 3.17707601e-01  5.89339367e-02]\n",
      " [ 2.77108050e-02 -5.74557891e-01]\n",
      " [-5.52282788e-01  1.87302417e+00]\n",
      " [ 8.97701194e-01  1.23953234e+00]\n",
      " [-3.58951590e-01 -1.29443497e+00]\n",
      " [ 8.01035595e-01 -1.38082022e+00]\n",
      " [ 2.05768838e+00 -1.17925464e+00]\n",
      " [ 1.47769479e+00 -1.03527922e+00]\n",
      " [-1.51893878e+00  3.18089684e-01]\n",
      " [-4.55617189e-01 -5.45762808e-01]\n",
      " [ 1.09103239e+00  4.62065100e-01]\n",
      " [ 5.11038799e-01  1.21073726e+00]\n",
      " [ 3.17707601e-01 -2.86607060e-01]\n",
      " [-2.62285991e-01 -1.35202513e+00]\n",
      " [-1.32560758e+00 -1.35202513e+00]\n",
      " [ 1.24376404e-01  1.03796676e+00]\n",
      " [ 8.97701194e-01 -1.35202513e+00]\n",
      " [-2.62285991e-01 -4.30582476e-01]\n",
      " [-1.90560117e+00 -7.47328389e-01]\n",
      " [-1.90560117e+00  3.46884767e-01]\n",
      " [ 3.17707601e-01 -5.16967725e-01]\n",
      " [ 2.15435398e+00 -8.04918555e-01]\n",
      " [-6.89547938e-02  6.63630681e-01]\n",
      " [-1.03561078e+00 -3.72992309e-01]\n",
      " [ 7.04369997e-01 -1.38082022e+00]\n",
      " [-7.45613985e-01 -1.52479563e+00]\n",
      " [-1.90560117e+00  4.62065100e-01]\n",
      " [ 1.09103239e+00  1.16524103e-01]\n",
      " [-1.42227318e+00 -1.43841038e+00]\n",
      " [ 2.21042003e-01 -1.42631645e-01]\n",
      " [ 8.01035595e-01  2.60499518e-01]\n",
      " [ 4.14373200e-01 -4.59377559e-01]\n",
      " [-6.89547938e-02  2.89294601e-01]\n",
      " [-2.62285991e-01  1.09555693e+00]\n",
      " [ 2.21042003e-01  1.06676184e+00]\n",
      " [-1.13227638e+00 -1.52479563e+00]\n",
      " [-6.48948387e-01 -1.13836562e-01]\n",
      " [ 3.17707601e-01  4.90860183e-01]\n",
      " [ 3.17707601e-01  2.89294601e-01]\n",
      " [ 8.97701194e-01  2.13217992e+00]\n",
      " [ 2.77108050e-02 -2.57811977e-01]\n",
      " [-1.13227638e+00 -5.16967725e-01]\n",
      " [-1.13227638e+00 -1.58238580e+00]\n",
      " [ 2.77108050e-02  1.21073726e+00]\n",
      " [-6.48948387e-01  1.38350776e+00]\n",
      " [-2.62285991e-01 -5.74557891e-01]\n",
      " [-9.38945183e-01 -4.30582476e-01]\n",
      " [-7.45613985e-01  5.48450349e-01]\n",
      " [ 2.05768838e+00  1.74114269e-01]\n",
      " [ 1.24376404e-01  1.84422909e+00]\n",
      " [-5.52282788e-01  1.35471267e+00]\n",
      " [ 1.28436359e+00  1.84422909e+00]\n",
      " [ 3.17707601e-01 -2.00221811e-01]\n",
      " [-1.80893557e+00  1.74114269e-01]\n",
      " [-1.61560437e+00 -5.62463956e-02]\n",
      " [-9.38945183e-01  4.04474934e-01]\n",
      " [ 6.07704398e-01 -8.91303805e-01]\n",
      " [-6.89547938e-02  2.31704435e-01]\n",
      " [ 9.94366793e-01  2.04579467e+00]\n",
      " [ 3.17707601e-01  3.01388536e-02]\n",
      " [-1.42227318e+00 -2.00221811e-01]\n",
      " [-1.32560758e+00  5.48450349e-01]\n",
      " [ 9.94366793e-01 -1.06407430e+00]\n",
      " [-1.32560758e+00 -1.23684480e+00]\n",
      " [ 2.21042003e-01 -3.15402143e-01]\n",
      " [ 8.01035595e-01 -1.09286939e+00]\n",
      " [ 1.18769799e+00 -1.43841038e+00]\n",
      " [ 1.09103239e+00 -1.42631645e-01]\n",
      " [-5.52282788e-01 -1.49600055e+00]\n",
      " [ 2.15435398e+00 -8.04918555e-01]\n",
      " [ 3.17707601e-01 -5.16967725e-01]\n",
      " [-8.42279584e-01  3.75679850e-01]\n",
      " [ 1.09103239e+00 -8.91303805e-01]\n",
      " [-8.42279584e-01 -1.20804972e+00]\n",
      " [ 8.01035595e-01 -1.20804972e+00]\n",
      " [ 1.38102919e+00 -1.40961530e+00]\n",
      " [ 1.67102598e+00 -8.91303805e-01]\n",
      " [ 1.09103239e+00  2.04579467e+00]\n",
      " [-1.03561078e+00  1.93061434e+00]\n",
      " [ 1.47769479e+00  3.46884767e-01]\n",
      " [-1.80893557e+00  4.33270017e-01]\n",
      " [-2.62285991e-01 -5.74557891e-01]\n",
      " [-1.13227638e+00 -1.15045955e+00]\n",
      " [-6.89547938e-02 -2.29016894e-01]\n",
      " [ 2.77108050e-02 -1.42631645e-01]\n",
      " [ 1.24376404e-01  2.02909352e-01]\n",
      " [-1.90560117e+00 -5.62463956e-02]\n",
      " [ 1.76769158e+00  9.80376595e-01]\n",
      " [-5.52282788e-01 -1.49600055e+00]\n",
      " [-1.51893878e+00 -1.23684480e+00]\n",
      " [ 6.07704398e-01  1.98820450e+00]\n",
      " [-6.48948387e-01 -1.03527922e+00]\n",
      " [-1.22894198e+00 -1.38082022e+00]\n",
      " [ 1.86435718e+00 -1.06407430e+00]\n",
      " [-2.62285991e-01 -8.91303805e-01]\n",
      " [-9.38945183e-01 -7.47328389e-01]\n",
      " [-1.42227318e+00 -1.13836562e-01]\n",
      " [ 2.21042003e-01  1.45319186e-01]\n",
      " [ 4.14373200e-01  2.60499518e-01]\n",
      " [ 8.97701194e-01  1.00917168e+00]\n",
      " [-1.03561078e+00 -3.44197226e-01]\n",
      " [ 1.47769479e+00  2.10338483e+00]\n",
      " [ 1.57436039e+00  1.34377054e-03]\n",
      " [ 8.97701194e-01 -1.29443497e+00]\n",
      " [ 2.15435398e+00  3.75679850e-01]\n",
      " [-1.03561078e+00 -1.52479563e+00]\n",
      " [ 3.17707601e-01  5.89339367e-02]\n",
      " [-4.55617189e-01  1.23953234e+00]\n",
      " [-1.22894198e+00 -1.06407430e+00]\n",
      " [ 8.01035595e-01 -8.33713639e-01]\n",
      " [-2.62285991e-01  6.06040515e-01]\n",
      " [ 8.01035595e-01 -3.15402143e-01]\n",
      " [-2.62285991e-01 -4.88172642e-01]\n",
      " [ 1.57436039e+00 -1.26563988e+00]\n",
      " [ 1.38102919e+00  1.95940942e+00]\n",
      " [-8.42279584e-01  2.89294601e-01]\n",
      " [ 1.24376404e-01 -2.57811977e-01]\n",
      " [ 4.14373200e-01  1.09555693e+00]]\n"
     ]
    }
   ],
   "source": [
    "print(X_train)"
   ]
  },
  {
   "cell_type": "code",
   "execution_count": 19,
   "metadata": {
    "colab": {
     "base_uri": "https://localhost:8080/",
     "height": 1000
    },
    "colab_type": "code",
    "executionInfo": {
     "elapsed": 2133,
     "status": "ok",
     "timestamp": 1588265315504,
     "user": {
      "displayName": "Hadelin de Ponteves",
      "photoUrl": "https://lh3.googleusercontent.com/a-/AOh14GhEuXdT7eQweUmRPW8_laJuPggSK6hfvpl5a6WBaA=s64",
      "userId": "15047218817161520419"
     },
     "user_tz": -240
    },
    "id": "JUd6iBRp2C3L",
    "outputId": "3ed7b1f1-8fb7-48bc-8df8-39b6f65081ae"
   },
   "outputs": [
    {
     "name": "stdout",
     "output_type": "stream",
     "text": [
      "[[ 0.4143732  -0.14263164]\n",
      " [-0.06895479  0.03013885]\n",
      " [ 0.4143732   0.57724543]\n",
      " [ 0.89770119 -0.66094314]\n",
      " [-1.42227318 -0.63214806]\n",
      " [ 1.96102278 -1.35202513]\n",
      " [ 0.1243764  -0.80491856]\n",
      " [ 0.89770119 -0.77612347]\n",
      " [-0.26228599 -0.31540214]\n",
      " [ 0.1243764   0.03013885]\n",
      " [ 0.3177076  -0.31540214]\n",
      " [-1.13227638  1.38350776]\n",
      " [ 2.05768838  1.72904875]\n",
      " [ 1.86435718 -1.26563988]\n",
      " [ 0.8010356  -1.35202513]\n",
      " [ 0.0277108   0.03013885]\n",
      " [-0.93894518  0.49086018]\n",
      " [-1.32560758 -0.34419723]\n",
      " [-0.74561399 -1.5823858 ]\n",
      " [ 0.1243764   1.49868809]\n",
      " [-1.03561078 -0.45937756]\n",
      " [-1.61560437  0.05893394]\n",
      " [-0.06895479  0.14531919]\n",
      " [ 2.05768838  0.51965527]\n",
      " [ 1.96102278 -0.66094314]\n",
      " [-0.06895479 -0.43058248]\n",
      " [ 0.0277108  -0.31540214]\n",
      " [-0.06895479  2.18977008]\n",
      " [ 0.99436679 -1.0640743 ]\n",
      " [-0.16562039 -1.0640743 ]\n",
      " [-0.26228599 -1.43841038]\n",
      " [-1.03561078  0.40447493]\n",
      " [-0.45561719 -0.77612347]\n",
      " [ 1.09103239 -1.20804972]\n",
      " [ 0.99436679  1.41230284]\n",
      " [-0.35895159 -0.77612347]\n",
      " [ 0.8010356   0.51965527]\n",
      " [ 0.221042    2.07458975]\n",
      " [ 0.221042   -0.66094314]\n",
      " [-0.93894518 -0.31540214]\n",
      " [ 0.3177076  -0.71853331]\n",
      " [ 0.70437    -0.71853331]\n",
      " [-1.32560758 -1.46720547]\n",
      " [-0.74561399 -0.60335297]\n",
      " [-0.16562039 -0.20022181]\n",
      " [-0.45561719 -1.12166447]\n",
      " [ 0.99436679  1.84422909]\n",
      " [ 0.1243764  -0.80491856]\n",
      " [-0.06895479  0.2892946 ]\n",
      " [-1.71226997  0.4620651 ]\n",
      " [-0.93894518  1.52748317]\n",
      " [-0.16562039  1.61386842]\n",
      " [ 0.89770119 -0.57455789]\n",
      " [-0.26228599  0.08772902]\n",
      " [ 0.4143732  -0.48817264]\n",
      " [-0.06895479  0.20290935]\n",
      " [ 0.99436679  0.57724543]\n",
      " [-1.13227638  0.31808968]\n",
      " [ 1.38102919 -0.92009889]\n",
      " [ 2.05768838  2.10338483]\n",
      " [-1.22894198  0.49086018]\n",
      " [ 0.99436679  0.75001593]\n",
      " [ 0.0277108  -0.54576281]\n",
      " [-0.06895479  2.13217992]\n",
      " [ 1.86435718  1.49868809]\n",
      " [ 0.70437     0.26049952]\n",
      " [ 0.4143732  -0.14263164]\n",
      " [ 1.76769158  1.815434  ]\n",
      " [-1.71226997 -1.35202513]\n",
      " [ 0.0277108   0.2892946 ]\n",
      " [-0.06895479  0.05893394]\n",
      " [ 0.1243764   0.75001593]\n",
      " [-0.93894518 -0.94889397]\n",
      " [-0.93894518 -0.31540214]\n",
      " [-0.84227958  0.37567985]\n",
      " [ 0.221042   -0.28660706]\n",
      " [-0.45561719 -0.83371364]\n",
      " [-1.51893878 -0.43058248]\n",
      " [ 2.05768838  0.37567985]\n",
      " [ 0.89770119 -1.15045955]\n",
      " [-0.06895479  0.26049952]\n",
      " [ 0.0277108  -0.25781198]\n",
      " [-1.71226997  0.1165241 ]\n",
      " [-1.03561078  0.51965527]\n",
      " [-1.42227318 -1.20804972]\n",
      " [-0.55228279  0.4620651 ]\n",
      " [-1.61560437  0.51965527]\n",
      " [-0.93894518  0.54845035]\n",
      " [-1.80893557 -1.26563988]\n",
      " [-0.64894839  0.17411427]\n",
      " [ 1.76769158 -0.28660706]\n",
      " [-0.64894839 -0.0562464 ]\n",
      " [-0.26228599 -1.38082022]\n",
      " [ 2.05768838 -0.80491856]\n",
      " [-1.13227638  0.2892946 ]\n",
      " [-1.90560117 -0.51696772]\n",
      " [ 1.47769479  0.98037659]\n",
      " [-1.03561078  0.57724543]\n",
      " [-0.64894839  0.03013885]\n",
      " [-0.74561399  0.2892946 ]]\n"
     ]
    }
   ],
   "source": [
    "print(X_test)"
   ]
  },
  {
   "cell_type": "markdown",
   "metadata": {
    "colab_type": "text",
    "id": "bb6jCOCQiAmP"
   },
   "source": [
    "## Training the Logistic Regression model on the Training set"
   ]
  },
  {
   "cell_type": "code",
   "execution_count": 20,
   "metadata": {
    "colab": {
     "base_uri": "https://localhost:8080/",
     "height": 103
    },
    "colab_type": "code",
    "executionInfo": {
     "elapsed": 2125,
     "status": "ok",
     "timestamp": 1588265315505,
     "user": {
      "displayName": "Hadelin de Ponteves",
      "photoUrl": "https://lh3.googleusercontent.com/a-/AOh14GhEuXdT7eQweUmRPW8_laJuPggSK6hfvpl5a6WBaA=s64",
      "userId": "15047218817161520419"
     },
     "user_tz": -240
    },
    "id": "e0pFVAmciHQs",
    "outputId": "67f64468-abdb-4fe7-cce9-de0037119610"
   },
   "outputs": [
    {
     "data": {
      "text/plain": [
       "LogisticRegression(random_state=10)"
      ]
     },
     "execution_count": 20,
     "metadata": {},
     "output_type": "execute_result"
    }
   ],
   "source": [
    "from sklearn.linear_model import LogisticRegression\n",
    "classifier = LogisticRegression(random_state = 10)\n",
    "classifier.fit(X_train, y_train)"
   ]
  },
  {
   "cell_type": "markdown",
   "metadata": {
    "colab_type": "text",
    "id": "yyxW5b395mR2"
   },
   "source": [
    "## Predicting a new result"
   ]
  },
  {
   "cell_type": "code",
   "execution_count": 21,
   "metadata": {
    "colab": {
     "base_uri": "https://localhost:8080/",
     "height": 34
    },
    "colab_type": "code",
    "executionInfo": {
     "elapsed": 2118,
     "status": "ok",
     "timestamp": 1588265315505,
     "user": {
      "displayName": "Hadelin de Ponteves",
      "photoUrl": "https://lh3.googleusercontent.com/a-/AOh14GhEuXdT7eQweUmRPW8_laJuPggSK6hfvpl5a6WBaA=s64",
      "userId": "15047218817161520419"
     },
     "user_tz": -240
    },
    "id": "f8YOXsQy58rP",
    "outputId": "2e1b0063-548e-4924-cf3a-93a79d97e35e"
   },
   "outputs": [
    {
     "name": "stdout",
     "output_type": "stream",
     "text": [
      "[0]\n"
     ]
    }
   ],
   "source": [
    "print(classifier.predict(sc.transform([[30,87000]])))"
   ]
  },
  {
   "cell_type": "markdown",
   "metadata": {
    "colab_type": "text",
    "id": "vKYVQH-l5NpE"
   },
   "source": [
    "## Predicting the Test set results"
   ]
  },
  {
   "cell_type": "code",
   "execution_count": null,
   "metadata": {},
   "outputs": [],
   "source": []
  },
  {
   "cell_type": "code",
   "execution_count": 22,
   "metadata": {
    "colab": {
     "base_uri": "https://localhost:8080/",
     "height": 1000
    },
    "colab_type": "code",
    "executionInfo": {
     "elapsed": 2112,
     "status": "ok",
     "timestamp": 1588265315506,
     "user": {
      "displayName": "Hadelin de Ponteves",
      "photoUrl": "https://lh3.googleusercontent.com/a-/AOh14GhEuXdT7eQweUmRPW8_laJuPggSK6hfvpl5a6WBaA=s64",
      "userId": "15047218817161520419"
     },
     "user_tz": -240
    },
    "id": "p6VMTb2O4hwM",
    "outputId": "a4f03a97-2942-45cd-f735-f4063277a96c"
   },
   "outputs": [
    {
     "name": "stdout",
     "output_type": "stream",
     "text": [
      "[[0 0]\n",
      " [0 0]\n",
      " [1 1]\n",
      " [1 0]\n",
      " [0 0]\n",
      " [1 1]\n",
      " [0 0]\n",
      " [1 0]\n",
      " [0 0]\n",
      " [0 0]\n",
      " [0 0]\n",
      " [0 0]\n",
      " [1 1]\n",
      " [1 1]\n",
      " [0 1]\n",
      " [0 0]\n",
      " [0 0]\n",
      " [0 0]\n",
      " [0 0]\n",
      " [1 1]\n",
      " [0 0]\n",
      " [0 0]\n",
      " [0 0]\n",
      " [1 1]\n",
      " [1 1]\n",
      " [0 0]\n",
      " [0 0]\n",
      " [1 1]\n",
      " [1 1]\n",
      " [0 0]\n",
      " [0 0]\n",
      " [0 0]\n",
      " [0 0]\n",
      " [1 1]\n",
      " [1 1]\n",
      " [0 0]\n",
      " [1 1]\n",
      " [1 1]\n",
      " [0 0]\n",
      " [0 0]\n",
      " [0 0]\n",
      " [0 1]\n",
      " [0 0]\n",
      " [0 0]\n",
      " [0 0]\n",
      " [0 0]\n",
      " [1 1]\n",
      " [0 0]\n",
      " [0 0]\n",
      " [0 0]\n",
      " [0 1]\n",
      " [1 1]\n",
      " [1 1]\n",
      " [0 0]\n",
      " [0 0]\n",
      " [0 0]\n",
      " [1 1]\n",
      " [0 0]\n",
      " [1 1]\n",
      " [1 1]\n",
      " [0 0]\n",
      " [1 1]\n",
      " [0 0]\n",
      " [1 1]\n",
      " [1 1]\n",
      " [1 0]\n",
      " [0 0]\n",
      " [1 1]\n",
      " [0 0]\n",
      " [0 0]\n",
      " [0 0]\n",
      " [1 1]\n",
      " [0 0]\n",
      " [0 0]\n",
      " [0 0]\n",
      " [0 0]\n",
      " [0 0]\n",
      " [0 0]\n",
      " [1 0]\n",
      " [0 1]\n",
      " [0 1]\n",
      " [0 0]\n",
      " [0 0]\n",
      " [0 0]\n",
      " [0 0]\n",
      " [0 0]\n",
      " [0 0]\n",
      " [0 0]\n",
      " [0 0]\n",
      " [0 0]\n",
      " [1 1]\n",
      " [0 0]\n",
      " [0 0]\n",
      " [1 0]\n",
      " [0 0]\n",
      " [0 0]\n",
      " [1 1]\n",
      " [0 0]\n",
      " [0 0]\n",
      " [0 0]]\n"
     ]
    }
   ],
   "source": [
    "y_pred = classifier.predict(X_test)\n",
    "print(np.concatenate((y_pred.reshape(len(y_pred),1), y_test.reshape(len(y_test),1)),1))"
   ]
  },
  {
   "cell_type": "code",
   "execution_count": 23,
   "metadata": {},
   "outputs": [
    {
     "data": {
      "text/html": [
       "<div>\n",
       "<style scoped>\n",
       "    .dataframe tbody tr th:only-of-type {\n",
       "        vertical-align: middle;\n",
       "    }\n",
       "\n",
       "    .dataframe tbody tr th {\n",
       "        vertical-align: top;\n",
       "    }\n",
       "\n",
       "    .dataframe thead th {\n",
       "        text-align: right;\n",
       "    }\n",
       "</style>\n",
       "<table border=\"1\" class=\"dataframe\">\n",
       "  <thead>\n",
       "    <tr style=\"text-align: right;\">\n",
       "      <th></th>\n",
       "      <th>Actual Value</th>\n",
       "      <th>Predicted Value</th>\n",
       "    </tr>\n",
       "  </thead>\n",
       "  <tbody>\n",
       "    <tr>\n",
       "      <th>0</th>\n",
       "      <td>0</td>\n",
       "      <td>0</td>\n",
       "    </tr>\n",
       "    <tr>\n",
       "      <th>1</th>\n",
       "      <td>0</td>\n",
       "      <td>0</td>\n",
       "    </tr>\n",
       "    <tr>\n",
       "      <th>2</th>\n",
       "      <td>1</td>\n",
       "      <td>1</td>\n",
       "    </tr>\n",
       "    <tr>\n",
       "      <th>3</th>\n",
       "      <td>0</td>\n",
       "      <td>1</td>\n",
       "    </tr>\n",
       "    <tr>\n",
       "      <th>4</th>\n",
       "      <td>0</td>\n",
       "      <td>0</td>\n",
       "    </tr>\n",
       "    <tr>\n",
       "      <th>...</th>\n",
       "      <td>...</td>\n",
       "      <td>...</td>\n",
       "    </tr>\n",
       "    <tr>\n",
       "      <th>95</th>\n",
       "      <td>0</td>\n",
       "      <td>0</td>\n",
       "    </tr>\n",
       "    <tr>\n",
       "      <th>96</th>\n",
       "      <td>1</td>\n",
       "      <td>1</td>\n",
       "    </tr>\n",
       "    <tr>\n",
       "      <th>97</th>\n",
       "      <td>0</td>\n",
       "      <td>0</td>\n",
       "    </tr>\n",
       "    <tr>\n",
       "      <th>98</th>\n",
       "      <td>0</td>\n",
       "      <td>0</td>\n",
       "    </tr>\n",
       "    <tr>\n",
       "      <th>99</th>\n",
       "      <td>0</td>\n",
       "      <td>0</td>\n",
       "    </tr>\n",
       "  </tbody>\n",
       "</table>\n",
       "<p>100 rows × 2 columns</p>\n",
       "</div>"
      ],
      "text/plain": [
       "    Actual Value  Predicted Value\n",
       "0              0                0\n",
       "1              0                0\n",
       "2              1                1\n",
       "3              0                1\n",
       "4              0                0\n",
       "..           ...              ...\n",
       "95             0                0\n",
       "96             1                1\n",
       "97             0                0\n",
       "98             0                0\n",
       "99             0                0\n",
       "\n",
       "[100 rows x 2 columns]"
      ]
     },
     "execution_count": 23,
     "metadata": {},
     "output_type": "execute_result"
    }
   ],
   "source": [
    "df = pd.DataFrame()\n",
    "df[\"Actual Value\"]= y_test\n",
    "df['Predicted Value']= y_pred\n",
    "df"
   ]
  },
  {
   "cell_type": "code",
   "execution_count": 28,
   "metadata": {},
   "outputs": [
    {
     "name": "stdout",
     "output_type": "stream",
     "text": [
      "Co-effi :  [[2.16380739 1.04956185]]\n"
     ]
    }
   ],
   "source": [
    "#evaluate model\n",
    "print(\"Co-effi : \", classifier.coef_)"
   ]
  },
  {
   "cell_type": "code",
   "execution_count": null,
   "metadata": {},
   "outputs": [],
   "source": []
  },
  {
   "cell_type": "code",
   "execution_count": 30,
   "metadata": {
    "colab": {
     "base_uri": "https://localhost:8080/",
     "height": 68
    },
    "colab_type": "code",
    "executionInfo": {
     "elapsed": 2107,
     "status": "ok",
     "timestamp": 1588265315506,
     "user": {
      "displayName": "Hadelin de Ponteves",
      "photoUrl": "https://lh3.googleusercontent.com/a-/AOh14GhEuXdT7eQweUmRPW8_laJuPggSK6hfvpl5a6WBaA=s64",
      "userId": "15047218817161520419"
     },
     "user_tz": -240
    },
    "id": "D6bpZwUiiXic",
    "outputId": "f202fcb3-5882-4d93-e5df-50791185067e"
   },
   "outputs": [
    {
     "name": "stdout",
     "output_type": "stream",
     "text": [
      "Confusion Matrix:  [[64  5]\n",
      " [ 5 26]]\n",
      " Training Accuracy:  0.9\n"
     ]
    }
   ],
   "source": [
    "from sklearn.metrics import confusion_matrix, accuracy_score,recall_score\n",
    "cm = confusion_matrix(y_test, y_pred)\n",
    "print(\"Confusion Matrix: \",cm)\n",
    "ac = accuracy_score(y_test, y_pred)\n",
    "print(\" Test Accuracy: \",ac)\n"
   ]
  },
  {
   "cell_type": "code",
   "execution_count": null,
   "metadata": {},
   "outputs": [],
   "source": []
  },
  {
   "cell_type": "markdown",
   "metadata": {
    "colab_type": "text",
    "id": "h4Hwj34ziWQW"
   },
   "source": [
    "## Making the Confusion Matrix"
   ]
  },
  {
   "cell_type": "code",
   "execution_count": 31,
   "metadata": {},
   "outputs": [
    {
     "data": {
      "text/plain": [
       "<AxesSubplot:>"
      ]
     },
     "execution_count": 31,
     "metadata": {},
     "output_type": "execute_result"
    },
    {
     "data": {
      "image/png": "[encoded data removed]",
      "text/plain": [
       "<Figure size 432x288 with 2 Axes>"
      ]
     },
     "metadata": {
      "needs_background": "light"
     },
     "output_type": "display_data"
    }
   ],
   "source": [
    "sns.heatmap(cm, annot= True)"
   ]
  },
  {
   "cell_type": "code",
   "execution_count": 35,
   "metadata": {},
   "outputs": [
    {
     "name": "stdout",
     "output_type": "stream",
     "text": [
      "              precision    recall  f1-score   support\n",
      "\n",
      "           0       0.93      0.93      0.93        69\n",
      "           1       0.84      0.84      0.84        31\n",
      "\n",
      "    accuracy                           0.90       100\n",
      "   macro avg       0.88      0.88      0.88       100\n",
      "weighted avg       0.90      0.90      0.90       100\n",
      "\n"
     ]
    }
   ],
   "source": [
    "from sklearn.metrics import classification_report, precision_score, recall_score, f1_score\n",
    "print(classification_report(y_test, y_pred))"
   ]
  },
  {
   "cell_type": "code",
   "execution_count": 33,
   "metadata": {},
   "outputs": [
    {
     "name": "stdout",
     "output_type": "stream",
     "text": [
      "Confusion Matrix:  [[171  17]\n",
      " [ 32  80]]\n",
      " Training Accuracy:  0.8366666666666667\n"
     ]
    }
   ],
   "source": [
    "#Evaluating the training data\n",
    "predict_y_train = classifier.predict(X_train)\n",
    "from sklearn.metrics import confusion_matrix, accuracy_score,recall_score\n",
    "cm = confusion_matrix(y_train, predict_y_train)\n",
    "print(\"Confusion Matrix: \",cm)\n",
    "ac = accuracy_score(y_train, predict_y_train)\n",
    "print(\" Training Accuracy: \",ac)\n"
   ]
  },
  {
   "cell_type": "code",
   "execution_count": 34,
   "metadata": {},
   "outputs": [
    {
     "data": {
      "text/plain": [
       "<AxesSubplot:>"
      ]
     },
     "execution_count": 34,
     "metadata": {},
     "output_type": "execute_result"
    },
    {
     "data": {
      "image/png": "[encoded data removed]",
      "text/plain": [
       "<Figure size 432x288 with 2 Axes>"
      ]
     },
     "metadata": {
      "needs_background": "light"
     },
     "output_type": "display_data"
    }
   ],
   "source": [
    "sns.heatmap(cm, annot= True)"
   ]
  },
  {
   "cell_type": "code",
   "execution_count": null,
   "metadata": {},
   "outputs": [],
   "source": [
    " "
   ]
  },
  {
   "cell_type": "code",
   "execution_count": 36,
   "metadata": {},
   "outputs": [
    {
     "name": "stdout",
     "output_type": "stream",
     "text": [
      "              precision    recall  f1-score   support\n",
      "\n",
      "           0       0.84      0.91      0.87       188\n",
      "           1       0.82      0.71      0.77       112\n",
      "\n",
      "    accuracy                           0.84       300\n",
      "   macro avg       0.83      0.81      0.82       300\n",
      "weighted avg       0.84      0.84      0.83       300\n",
      "\n"
     ]
    }
   ],
   "source": [
    "from sklearn.metrics import classification_report, precision_score, recall_score, f1_score\n",
    "print(classification_report(y_train, predict_y_train))"
   ]
  },
  {
   "cell_type": "code",
   "execution_count": 38,
   "metadata": {},
   "outputs": [
    {
     "data": {
      "text/plain": [
       "array([[0.55254283, 0.44745717],\n",
       "       [0.74563112, 0.25436888],\n",
       "       [0.36711691, 0.63288309],\n",
       "       [0.42778879, 0.57221121],\n",
       "       [0.99097666, 0.00902334],\n",
       "       [0.13396249, 0.86603751],\n",
       "       [0.82252636, 0.17747364],\n",
       "       [0.45760462, 0.54239538],\n",
       "       [0.86488188, 0.13511812],\n",
       "       [0.6586118 , 0.3413882 ],\n",
       "       [0.64598779, 0.35401221],\n",
       "       [0.87608033, 0.12391967],\n",
       "       [0.00492099, 0.99507901],\n",
       "       [0.14831614, 0.85168386],\n",
       "       [0.65557141, 0.34442859],\n",
       "       [0.703971  , 0.296029  ],\n",
       "       [0.92232625, 0.07767375],\n",
       "       [0.98504275, 0.01495725],\n",
       "       [0.9856853 , 0.0143147 ],\n",
       "       [0.29230421, 0.70769579],\n",
       "       [0.9754187 , 0.0245813 ],\n",
       "       [0.98777383, 0.01222617],\n",
       "       [0.72203063, 0.27796937],\n",
       "       [0.01729352, 0.98270648],\n",
       "       [0.0696744 , 0.9303256 ],\n",
       "       [0.82620996, 0.17379004],\n",
       "       [0.77363412, 0.22636588],\n",
       "       [0.23304062, 0.76695938],\n",
       "       [0.48077618, 0.51922382],\n",
       "       [0.91931348, 0.08068652],\n",
       "       [0.95413532, 0.04586468],\n",
       "       [0.94126639, 0.05873361],\n",
       "       [0.94038211, 0.05961789],\n",
       "       [0.46630419, 0.53369581],\n",
       "       [0.06440182, 0.93559818],\n",
       "       [0.92751739, 0.07248261],\n",
       "       [0.21068125, 0.78931875],\n",
       "       [0.15474897, 0.84525103],\n",
       "       [0.76373767, 0.23626233],\n",
       "       [0.96512892, 0.03487108],\n",
       "       [0.73585994, 0.26414006],\n",
       "       [0.54683662, 0.45316338],\n",
       "       [0.99534967, 0.00465033],\n",
       "       [0.96100306, 0.03899694],\n",
       "       [0.82147737, 0.17852263],\n",
       "       [0.9577506 , 0.0422494 ],\n",
       "       [0.0419116 , 0.9580884 ],\n",
       "       [0.82252636, 0.17747364],\n",
       "       [0.69071103, 0.30928897],\n",
       "       [0.98490125, 0.01509875],\n",
       "       [0.80001397, 0.19998603],\n",
       "       [0.40670325, 0.59329675],\n",
       "       [0.40575426, 0.59424574],\n",
       "       [0.80742003, 0.19257997],\n",
       "       [0.63959731, 0.36040269],\n",
       "       [0.70973805, 0.29026195],\n",
       "       [0.14189979, 0.85810021],\n",
       "       [0.9558094 , 0.0441906 ],\n",
       "       [0.25641092, 0.74358908],\n",
       "       [0.0033275 , 0.9966725 ],\n",
       "       [0.95697018, 0.04302982],\n",
       "       [0.1212194 , 0.8787806 ],\n",
       "       [0.81316743, 0.18683257],\n",
       "       [0.24401781, 0.75598219],\n",
       "       [0.00947853, 0.99052147],\n",
       "       [0.30160678, 0.69839322],\n",
       "       [0.55254283, 0.44745717],\n",
       "       [0.0083884 , 0.9916116 ],\n",
       "       [0.99772144, 0.00227856],\n",
       "       [0.64434652, 0.35565348],\n",
       "       [0.73985658, 0.26014342],\n",
       "       [0.47540948, 0.52459052],\n",
       "       [0.98175575, 0.01824425],\n",
       "       [0.96512892, 0.03487108],\n",
       "       [0.91576157, 0.08423843],\n",
       "       [0.68576475, 0.31423525],\n",
       "       [0.943682  , 0.056318  ],\n",
       "       [0.99095527, 0.00904473],\n",
       "       [0.02005796, 0.97994204],\n",
       "       [0.55549522, 0.44450478],\n",
       "       [0.69712989, 0.30287011],\n",
       "       [0.76287413, 0.23712587],\n",
       "       [0.98944554, 0.01055446],\n",
       "       [0.93421564, 0.06578436],\n",
       "       [0.99504959, 0.00495041],\n",
       "       [0.84130109, 0.15869891],\n",
       "       [0.98032084, 0.01967916],\n",
       "       [0.91788393, 0.08211607],\n",
       "       [0.99797555, 0.00202445],\n",
       "       [0.89837781, 0.10162219],\n",
       "       [0.07134175, 0.92865825],\n",
       "       [0.91842269, 0.08157731],\n",
       "       [0.9514164 , 0.0485836 ],\n",
       "       [0.06600403, 0.93399597],\n",
       "       [0.95706848, 0.04293152],\n",
       "       [0.99640216, 0.00359784],\n",
       "       [0.03666638, 0.96333362],\n",
       "       [0.93040198, 0.06959802],\n",
       "       [0.91136688, 0.08863312],\n",
       "       [0.90615838, 0.09384162]])"
      ]
     },
     "execution_count": 38,
     "metadata": {},
     "output_type": "execute_result"
    }
   ],
   "source": [
    "y_predict = classifier.predict_proba(X_test)\n",
    "y_predict"
   ]
  },
  {
   "cell_type": "code",
   "execution_count": 40,
   "metadata": {},
   "outputs": [
    {
     "data": {
      "text/plain": [
       "array([0.44745717, 0.25436888, 0.63288309, 0.57221121, 0.00902334,\n",
       "       0.86603751, 0.17747364, 0.54239538, 0.13511812, 0.3413882 ,\n",
       "       0.35401221, 0.12391967, 0.99507901, 0.85168386, 0.34442859,\n",
       "       0.296029  , 0.07767375, 0.01495725, 0.0143147 , 0.70769579,\n",
       "       0.0245813 , 0.01222617, 0.27796937, 0.98270648, 0.9303256 ,\n",
       "       0.17379004, 0.22636588, 0.76695938, 0.51922382, 0.08068652,\n",
       "       0.04586468, 0.05873361, 0.05961789, 0.53369581, 0.93559818,\n",
       "       0.07248261, 0.78931875, 0.84525103, 0.23626233, 0.03487108,\n",
       "       0.26414006, 0.45316338, 0.00465033, 0.03899694, 0.17852263,\n",
       "       0.0422494 , 0.9580884 , 0.17747364, 0.30928897, 0.01509875,\n",
       "       0.19998603, 0.59329675, 0.59424574, 0.19257997, 0.36040269,\n",
       "       0.29026195, 0.85810021, 0.0441906 , 0.74358908, 0.9966725 ,\n",
       "       0.04302982, 0.8787806 , 0.18683257, 0.75598219, 0.99052147,\n",
       "       0.69839322, 0.44745717, 0.9916116 , 0.00227856, 0.35565348,\n",
       "       0.26014342, 0.52459052, 0.01824425, 0.03487108, 0.08423843,\n",
       "       0.31423525, 0.056318  , 0.00904473, 0.97994204, 0.44450478,\n",
       "       0.30287011, 0.23712587, 0.01055446, 0.06578436, 0.00495041,\n",
       "       0.15869891, 0.01967916, 0.08211607, 0.00202445, 0.10162219,\n",
       "       0.92865825, 0.08157731, 0.0485836 , 0.93399597, 0.04293152,\n",
       "       0.00359784, 0.96333362, 0.06959802, 0.08863312, 0.09384162])"
      ]
     },
     "execution_count": 40,
     "metadata": {},
     "output_type": "execute_result"
    }
   ],
   "source": [
    "y_predict = classifier.predict_proba(X_test)[:,1]\n",
    "y_predict"
   ]
  },
  {
   "cell_type": "code",
   "execution_count": 54,
   "metadata": {},
   "outputs": [],
   "source": [
    "def converZeroToOne(values,threshold = 0.5):\n",
    "    if(values>threshold): \n",
    "        return 1\n",
    "    else:\n",
    "        return 0"
   ]
  },
  {
   "cell_type": "code",
   "execution_count": 55,
   "metadata": {},
   "outputs": [
    {
     "data": {
      "text/html": [
       "<div>\n",
       "<style scoped>\n",
       "    .dataframe tbody tr th:only-of-type {\n",
       "        vertical-align: middle;\n",
       "    }\n",
       "\n",
       "    .dataframe tbody tr th {\n",
       "        vertical-align: top;\n",
       "    }\n",
       "\n",
       "    .dataframe thead th {\n",
       "        text-align: right;\n",
       "    }\n",
       "</style>\n",
       "<table border=\"1\" class=\"dataframe\">\n",
       "  <thead>\n",
       "    <tr style=\"text-align: right;\">\n",
       "      <th></th>\n",
       "      <th>Actual Value</th>\n",
       "      <th>Predicted Value</th>\n",
       "    </tr>\n",
       "  </thead>\n",
       "  <tbody>\n",
       "    <tr>\n",
       "      <th>0</th>\n",
       "      <td>0</td>\n",
       "      <td>0</td>\n",
       "    </tr>\n",
       "    <tr>\n",
       "      <th>1</th>\n",
       "      <td>0</td>\n",
       "      <td>0</td>\n",
       "    </tr>\n",
       "    <tr>\n",
       "      <th>2</th>\n",
       "      <td>1</td>\n",
       "      <td>1</td>\n",
       "    </tr>\n",
       "    <tr>\n",
       "      <th>3</th>\n",
       "      <td>0</td>\n",
       "      <td>1</td>\n",
       "    </tr>\n",
       "    <tr>\n",
       "      <th>4</th>\n",
       "      <td>0</td>\n",
       "      <td>0</td>\n",
       "    </tr>\n",
       "    <tr>\n",
       "      <th>5</th>\n",
       "      <td>1</td>\n",
       "      <td>1</td>\n",
       "    </tr>\n",
       "    <tr>\n",
       "      <th>6</th>\n",
       "      <td>0</td>\n",
       "      <td>0</td>\n",
       "    </tr>\n",
       "    <tr>\n",
       "      <th>7</th>\n",
       "      <td>0</td>\n",
       "      <td>1</td>\n",
       "    </tr>\n",
       "    <tr>\n",
       "      <th>8</th>\n",
       "      <td>0</td>\n",
       "      <td>0</td>\n",
       "    </tr>\n",
       "    <tr>\n",
       "      <th>9</th>\n",
       "      <td>0</td>\n",
       "      <td>0</td>\n",
       "    </tr>\n",
       "    <tr>\n",
       "      <th>10</th>\n",
       "      <td>0</td>\n",
       "      <td>0</td>\n",
       "    </tr>\n",
       "    <tr>\n",
       "      <th>11</th>\n",
       "      <td>0</td>\n",
       "      <td>0</td>\n",
       "    </tr>\n",
       "    <tr>\n",
       "      <th>12</th>\n",
       "      <td>1</td>\n",
       "      <td>1</td>\n",
       "    </tr>\n",
       "    <tr>\n",
       "      <th>13</th>\n",
       "      <td>1</td>\n",
       "      <td>1</td>\n",
       "    </tr>\n",
       "    <tr>\n",
       "      <th>14</th>\n",
       "      <td>1</td>\n",
       "      <td>0</td>\n",
       "    </tr>\n",
       "    <tr>\n",
       "      <th>15</th>\n",
       "      <td>0</td>\n",
       "      <td>0</td>\n",
       "    </tr>\n",
       "    <tr>\n",
       "      <th>16</th>\n",
       "      <td>0</td>\n",
       "      <td>0</td>\n",
       "    </tr>\n",
       "    <tr>\n",
       "      <th>17</th>\n",
       "      <td>0</td>\n",
       "      <td>0</td>\n",
       "    </tr>\n",
       "    <tr>\n",
       "      <th>18</th>\n",
       "      <td>0</td>\n",
       "      <td>0</td>\n",
       "    </tr>\n",
       "    <tr>\n",
       "      <th>19</th>\n",
       "      <td>1</td>\n",
       "      <td>1</td>\n",
       "    </tr>\n",
       "    <tr>\n",
       "      <th>20</th>\n",
       "      <td>0</td>\n",
       "      <td>0</td>\n",
       "    </tr>\n",
       "    <tr>\n",
       "      <th>21</th>\n",
       "      <td>0</td>\n",
       "      <td>0</td>\n",
       "    </tr>\n",
       "    <tr>\n",
       "      <th>22</th>\n",
       "      <td>0</td>\n",
       "      <td>0</td>\n",
       "    </tr>\n",
       "    <tr>\n",
       "      <th>23</th>\n",
       "      <td>1</td>\n",
       "      <td>1</td>\n",
       "    </tr>\n",
       "    <tr>\n",
       "      <th>24</th>\n",
       "      <td>1</td>\n",
       "      <td>1</td>\n",
       "    </tr>\n",
       "    <tr>\n",
       "      <th>25</th>\n",
       "      <td>0</td>\n",
       "      <td>0</td>\n",
       "    </tr>\n",
       "    <tr>\n",
       "      <th>26</th>\n",
       "      <td>0</td>\n",
       "      <td>0</td>\n",
       "    </tr>\n",
       "    <tr>\n",
       "      <th>27</th>\n",
       "      <td>1</td>\n",
       "      <td>1</td>\n",
       "    </tr>\n",
       "    <tr>\n",
       "      <th>28</th>\n",
       "      <td>1</td>\n",
       "      <td>1</td>\n",
       "    </tr>\n",
       "    <tr>\n",
       "      <th>29</th>\n",
       "      <td>0</td>\n",
       "      <td>0</td>\n",
       "    </tr>\n",
       "  </tbody>\n",
       "</table>\n",
       "</div>"
      ],
      "text/plain": [
       "    Actual Value  Predicted Value\n",
       "0              0                0\n",
       "1              0                0\n",
       "2              1                1\n",
       "3              0                1\n",
       "4              0                0\n",
       "5              1                1\n",
       "6              0                0\n",
       "7              0                1\n",
       "8              0                0\n",
       "9              0                0\n",
       "10             0                0\n",
       "11             0                0\n",
       "12             1                1\n",
       "13             1                1\n",
       "14             1                0\n",
       "15             0                0\n",
       "16             0                0\n",
       "17             0                0\n",
       "18             0                0\n",
       "19             1                1\n",
       "20             0                0\n",
       "21             0                0\n",
       "22             0                0\n",
       "23             1                1\n",
       "24             1                1\n",
       "25             0                0\n",
       "26             0                0\n",
       "27             1                1\n",
       "28             1                1\n",
       "29             0                0"
      ]
     },
     "execution_count": 55,
     "metadata": {},
     "output_type": "execute_result"
    }
   ],
   "source": [
    "df = pd.DataFrame()\n",
    "df[\"Actual Value\"]= y_test\n",
    "df['Predicted Value']= y_pred\n",
    "df.head(30)"
   ]
  },
  {
   "cell_type": "code",
   "execution_count": 56,
   "metadata": {},
   "outputs": [],
   "source": [
    "df[\"Predicted Value\"]=df['Predicted Value'].apply(converZeroToOne)"
   ]
  },
  {
   "cell_type": "code",
   "execution_count": 57,
   "metadata": {},
   "outputs": [
    {
     "data": {
      "text/html": [
       "<div>\n",
       "<style scoped>\n",
       "    .dataframe tbody tr th:only-of-type {\n",
       "        vertical-align: middle;\n",
       "    }\n",
       "\n",
       "    .dataframe tbody tr th {\n",
       "        vertical-align: top;\n",
       "    }\n",
       "\n",
       "    .dataframe thead th {\n",
       "        text-align: right;\n",
       "    }\n",
       "</style>\n",
       "<table border=\"1\" class=\"dataframe\">\n",
       "  <thead>\n",
       "    <tr style=\"text-align: right;\">\n",
       "      <th></th>\n",
       "      <th>Actual Value</th>\n",
       "      <th>Predicted Value</th>\n",
       "    </tr>\n",
       "  </thead>\n",
       "  <tbody>\n",
       "    <tr>\n",
       "      <th>0</th>\n",
       "      <td>0</td>\n",
       "      <td>0</td>\n",
       "    </tr>\n",
       "    <tr>\n",
       "      <th>1</th>\n",
       "      <td>0</td>\n",
       "      <td>0</td>\n",
       "    </tr>\n",
       "    <tr>\n",
       "      <th>2</th>\n",
       "      <td>1</td>\n",
       "      <td>1</td>\n",
       "    </tr>\n",
       "    <tr>\n",
       "      <th>3</th>\n",
       "      <td>0</td>\n",
       "      <td>1</td>\n",
       "    </tr>\n",
       "    <tr>\n",
       "      <th>4</th>\n",
       "      <td>0</td>\n",
       "      <td>0</td>\n",
       "    </tr>\n",
       "    <tr>\n",
       "      <th>5</th>\n",
       "      <td>1</td>\n",
       "      <td>1</td>\n",
       "    </tr>\n",
       "    <tr>\n",
       "      <th>6</th>\n",
       "      <td>0</td>\n",
       "      <td>0</td>\n",
       "    </tr>\n",
       "    <tr>\n",
       "      <th>7</th>\n",
       "      <td>0</td>\n",
       "      <td>1</td>\n",
       "    </tr>\n",
       "    <tr>\n",
       "      <th>8</th>\n",
       "      <td>0</td>\n",
       "      <td>0</td>\n",
       "    </tr>\n",
       "    <tr>\n",
       "      <th>9</th>\n",
       "      <td>0</td>\n",
       "      <td>0</td>\n",
       "    </tr>\n",
       "    <tr>\n",
       "      <th>10</th>\n",
       "      <td>0</td>\n",
       "      <td>0</td>\n",
       "    </tr>\n",
       "    <tr>\n",
       "      <th>11</th>\n",
       "      <td>0</td>\n",
       "      <td>0</td>\n",
       "    </tr>\n",
       "    <tr>\n",
       "      <th>12</th>\n",
       "      <td>1</td>\n",
       "      <td>1</td>\n",
       "    </tr>\n",
       "    <tr>\n",
       "      <th>13</th>\n",
       "      <td>1</td>\n",
       "      <td>1</td>\n",
       "    </tr>\n",
       "    <tr>\n",
       "      <th>14</th>\n",
       "      <td>1</td>\n",
       "      <td>0</td>\n",
       "    </tr>\n",
       "    <tr>\n",
       "      <th>15</th>\n",
       "      <td>0</td>\n",
       "      <td>0</td>\n",
       "    </tr>\n",
       "    <tr>\n",
       "      <th>16</th>\n",
       "      <td>0</td>\n",
       "      <td>0</td>\n",
       "    </tr>\n",
       "    <tr>\n",
       "      <th>17</th>\n",
       "      <td>0</td>\n",
       "      <td>0</td>\n",
       "    </tr>\n",
       "    <tr>\n",
       "      <th>18</th>\n",
       "      <td>0</td>\n",
       "      <td>0</td>\n",
       "    </tr>\n",
       "    <tr>\n",
       "      <th>19</th>\n",
       "      <td>1</td>\n",
       "      <td>1</td>\n",
       "    </tr>\n",
       "    <tr>\n",
       "      <th>20</th>\n",
       "      <td>0</td>\n",
       "      <td>0</td>\n",
       "    </tr>\n",
       "    <tr>\n",
       "      <th>21</th>\n",
       "      <td>0</td>\n",
       "      <td>0</td>\n",
       "    </tr>\n",
       "    <tr>\n",
       "      <th>22</th>\n",
       "      <td>0</td>\n",
       "      <td>0</td>\n",
       "    </tr>\n",
       "    <tr>\n",
       "      <th>23</th>\n",
       "      <td>1</td>\n",
       "      <td>1</td>\n",
       "    </tr>\n",
       "    <tr>\n",
       "      <th>24</th>\n",
       "      <td>1</td>\n",
       "      <td>1</td>\n",
       "    </tr>\n",
       "    <tr>\n",
       "      <th>25</th>\n",
       "      <td>0</td>\n",
       "      <td>0</td>\n",
       "    </tr>\n",
       "    <tr>\n",
       "      <th>26</th>\n",
       "      <td>0</td>\n",
       "      <td>0</td>\n",
       "    </tr>\n",
       "    <tr>\n",
       "      <th>27</th>\n",
       "      <td>1</td>\n",
       "      <td>1</td>\n",
       "    </tr>\n",
       "    <tr>\n",
       "      <th>28</th>\n",
       "      <td>1</td>\n",
       "      <td>1</td>\n",
       "    </tr>\n",
       "    <tr>\n",
       "      <th>29</th>\n",
       "      <td>0</td>\n",
       "      <td>0</td>\n",
       "    </tr>\n",
       "  </tbody>\n",
       "</table>\n",
       "</div>"
      ],
      "text/plain": [
       "    Actual Value  Predicted Value\n",
       "0              0                0\n",
       "1              0                0\n",
       "2              1                1\n",
       "3              0                1\n",
       "4              0                0\n",
       "5              1                1\n",
       "6              0                0\n",
       "7              0                1\n",
       "8              0                0\n",
       "9              0                0\n",
       "10             0                0\n",
       "11             0                0\n",
       "12             1                1\n",
       "13             1                1\n",
       "14             1                0\n",
       "15             0                0\n",
       "16             0                0\n",
       "17             0                0\n",
       "18             0                0\n",
       "19             1                1\n",
       "20             0                0\n",
       "21             0                0\n",
       "22             0                0\n",
       "23             1                1\n",
       "24             1                1\n",
       "25             0                0\n",
       "26             0                0\n",
       "27             1                1\n",
       "28             1                1\n",
       "29             0                0"
      ]
     },
     "execution_count": 57,
     "metadata": {},
     "output_type": "execute_result"
    }
   ],
   "source": [
    "df.head(30)"
   ]
  },
  {
   "cell_type": "code",
   "execution_count": null,
   "metadata": {},
   "outputs": [],
   "source": []
  },
  {
   "cell_type": "code",
   "execution_count": 41,
   "metadata": {},
   "outputs": [],
   "source": [
    "from sklearn.metrics import classification_report\n",
    "target_name = ['age', 'salary']"
   ]
  },
  {
   "cell_type": "code",
   "execution_count": 42,
   "metadata": {},
   "outputs": [
    {
     "name": "stdout",
     "output_type": "stream",
     "text": [
      "              precision    recall  f1-score   support\n",
      "\n",
      "           0       0.93      0.93      0.93        69\n",
      "           1       0.84      0.84      0.84        31\n",
      "\n",
      "    accuracy                           0.90       100\n",
      "   macro avg       0.88      0.88      0.88       100\n",
      "weighted avg       0.90      0.90      0.90       100\n",
      "\n"
     ]
    }
   ],
   "source": [
    "print(classification_report(y_test, y_pred))"
   ]
  },
  {
   "cell_type": "code",
   "execution_count": 43,
   "metadata": {},
   "outputs": [
    {
     "ename": "NameError",
     "evalue": "name 'roc_auc' is not defined",
     "output_type": "error",
     "traceback": [
      "\u001b[1;31m---------------------------------------------------------------------------\u001b[0m",
      "\u001b[1;31mNameError\u001b[0m                                 Traceback (most recent call last)",
      "Input \u001b[1;32mIn [43]\u001b[0m, in \u001b[0;36m<cell line: 7>\u001b[1;34m()\u001b[0m\n\u001b[0;32m      5\u001b[0m false_positive_rate, true_positive_rate, threshold \u001b[38;5;241m=\u001b[39m roc_curve(y_test, y_score)\n\u001b[0;32m      6\u001b[0m plt\u001b[38;5;241m.\u001b[39mtitle(\u001b[38;5;124m\"\u001b[39m\u001b[38;5;124mReceiver Operating Characteristic (ROC)\u001b[39m\u001b[38;5;124m\"\u001b[39m)\n\u001b[1;32m----> 7\u001b[0m roc_auc\u001b[38;5;241m=\u001b[39m auc(false_positive_rate,true_positive_rate,\u001b[38;5;124m'\u001b[39m\u001b[38;5;124mb\u001b[39m\u001b[38;5;124m'\u001b[39m,label\u001b[38;5;241m=\u001b[39m \u001b[38;5;124m\"\u001b[39m\u001b[38;5;124mAUC=\u001b[39m\u001b[38;5;132;01m%f\u001b[39;00m\u001b[38;5;124m\"\u001b[39m\u001b[38;5;241m%\u001b[39m\u001b[43mroc_auc\u001b[49m)\n\u001b[0;32m      8\u001b[0m plt\u001b[38;5;241m.\u001b[39mlegend(loc \u001b[38;5;241m=\u001b[39m\u001b[38;5;124m'\u001b[39m\u001b[38;5;124mlower right\u001b[39m\u001b[38;5;124m'\u001b[39m)\n\u001b[0;32m      9\u001b[0m plt\u001b[38;5;241m.\u001b[39mplot([\u001b[38;5;241m0\u001b[39m,\u001b[38;5;241m1\u001b[39m], ls \u001b[38;5;241m=\u001b[39m\u001b[38;5;124m\"\u001b[39m\u001b[38;5;124m--\u001b[39m\u001b[38;5;124m\"\u001b[39m)\n",
      "\u001b[1;31mNameError\u001b[0m: name 'roc_auc' is not defined"
     ]
    },
    {
     "data": {
      "image/png": "[encoded data removed]",
      "text/plain": [
       "<Figure size 432x288 with 1 Axes>"
      ]
     },
     "metadata": {
      "needs_background": "light"
     },
     "output_type": "display_data"
    }
   ],
   "source": [
    "from sklearn.metrics import roc_auc_score, auc, roc_curve\n",
    "from sklearn.model_selection import train_test_split\n",
    "from sklearn.model_selection import cross_val_score\n",
    "\n",
    "false_positive_rate, true_positive_rate, threshold = roc_curve(y_test, y_score)\n",
    "plt.title(\"Receiver Operating Characteristic (ROC)\")\n",
    "roc_auc= auc(false_positive_rate,true_positive_rate,'b',label= \"AUC=%f\"%roc_auc)\n",
    "plt.legend(loc ='lower right')\n",
    "plt.plot([0,1], ls =\"--\")\n",
    "plt.plot([0,0],[1,0], c= \".7\")\n",
    "plt.plot([1,1], c=\".7\")\n",
    "plt.ylabel(\"True Positive Rate (TPR = TP/TP=TP/(TP+FN))\")\n",
    "plt.xlabel(\"False Positive Rate (FPR = FP/N=FP/(FP+TN))\")\n",
    "plt.show"
   ]
  },
  {
   "cell_type": "code",
   "execution_count": 44,
   "metadata": {},
   "outputs": [
    {
     "data": {
      "image/png": "[encoded data removed]",
      "text/plain": [
       "<Figure size 432x288 with 1 Axes>"
      ]
     },
     "metadata": {
      "needs_background": "light"
     },
     "output_type": "display_data"
    }
   ],
   "source": [
    "import matplotlib.pyplot as plt\n",
    "from sklearn.metrics import roc_auc_score, auc, roc_curve\n",
    "from sklearn.model_selection import train_test_split\n",
    "from sklearn.model_selection import cross_val_score\n",
    "\n",
    "# Assuming you have defined `y_test` and `y_score` appropriately\n",
    "\n",
    "false_positive_rate, true_positive_rate, threshold = roc_curve(y_test, y_score)\n",
    "roc_auc = roc_auc_score(y_test, y_score)\n",
    "\n",
    "plt.title(\"Receiver Operating Characteristic (ROC)\")\n",
    "plt.plot(false_positive_rate, true_positive_rate, 'b', label=\"AUC = %0.2f\" % roc_auc)\n",
    "plt.legend(loc='lower right')\n",
    "plt.plot([0, 1], [0, 1], 'r--')\n",
    "plt.plot([0, 0], [1, 0], c=\".7\")\n",
    "plt.plot([1, 1], c=\".7\")\n",
    "plt.ylabel(\"True Positive Rate (TPR = TP/TP+FN)\")\n",
    "plt.xlabel(\"False Positive Rate (FPR = FP/FP+TN)\")\n",
    "plt.show()\n"
   ]
  },
  {
   "cell_type": "code",
   "execution_count": 45,
   "metadata": {},
   "outputs": [
    {
     "name": "stdout",
     "output_type": "stream",
     "text": [
      "Estimate Intercept:  [-0.9578732]\n"
     ]
    }
   ],
   "source": [
    "print(\"Estimate Intercept: \", classifier.intercept_)"
   ]
  },
  {
   "cell_type": "code",
   "execution_count": 46,
   "metadata": {},
   "outputs": [
    {
     "name": "stdout",
     "output_type": "stream",
     "text": [
      "Number of Coefficient :  1\n",
      "Coficients :  [[2.16380739 1.04956185]]\n"
     ]
    }
   ],
   "source": [
    "print(\"Number of Coefficient : \", len(classifier.coef_))\n",
    "print(\"Coficients : \", classifier.coef_)\n"
   ]
  },
  {
   "cell_type": "code",
   "execution_count": 47,
   "metadata": {},
   "outputs": [],
   "source": [
    "import statsmodels.api as sm"
   ]
  },
  {
   "cell_type": "code",
   "execution_count": 48,
   "metadata": {},
   "outputs": [],
   "source": [
    "model = sm.Logit(y_train, X_train)"
   ]
  },
  {
   "cell_type": "code",
   "execution_count": 49,
   "metadata": {},
   "outputs": [
    {
     "name": "stdout",
     "output_type": "stream",
     "text": [
      "Optimization terminated successfully.\n",
      "         Current function value: 0.420563\n",
      "         Iterations 7\n"
     ]
    }
   ],
   "source": [
    "output = model.fit()"
   ]
  },
  {
   "cell_type": "code",
   "execution_count": 50,
   "metadata": {},
   "outputs": [
    {
     "name": "stdout",
     "output_type": "stream",
     "text": [
      "                         Results: Logit\n",
      "=================================================================\n",
      "Model:              Logit            Pseudo R-squared: 0.363     \n",
      "Dependent Variable: y                AIC:              256.3380  \n",
      "Date:               2023-06-15 10:57 BIC:              263.7456  \n",
      "No. Observations:   300              Log-Likelihood:   -126.17   \n",
      "Df Model:           1                LL-Null:          -198.21   \n",
      "Df Residuals:       298              LLR p-value:      3.4032e-33\n",
      "Converged:          1.0000           Scale:            1.0000    \n",
      "No. Iterations:     7.0000                                       \n",
      "--------------------------------------------------------------------\n",
      "          Coef.     Std.Err.      z       P>|z|     [0.025    0.975]\n",
      "--------------------------------------------------------------------\n",
      "x1        1.9912      0.2474    8.0478    0.0000    1.5063    2.4762\n",
      "x2        0.9959      0.1924    5.1763    0.0000    0.6188    1.3730\n",
      "=================================================================\n",
      "\n"
     ]
    }
   ],
   "source": [
    "print(output.summary2())"
   ]
  },
  {
   "cell_type": "code",
   "execution_count": null,
   "metadata": {},
   "outputs": [],
   "source": []
  },
  {
   "cell_type": "code",
   "execution_count": null,
   "metadata": {},
   "outputs": [],
   "source": []
  },
  {
   "cell_type": "code",
   "execution_count": null,
   "metadata": {},
   "outputs": [],
   "source": []
  },
  {
   "cell_type": "code",
   "execution_count": null,
   "metadata": {},
   "outputs": [],
   "source": []
  },
  {
   "cell_type": "code",
   "execution_count": null,
   "metadata": {},
   "outputs": [],
   "source": []
  },
  {
   "cell_type": "markdown",
   "metadata": {
    "colab_type": "text",
    "id": "6OMC_P0diaoD"
   },
   "source": [
    "## Visualising the Training set results"
   ]
  },
  {
   "cell_type": "code",
   "execution_count": 26,
   "metadata": {
    "colab": {
     "base_uri": "https://localhost:8080/",
     "height": 349
    },
    "colab_type": "code",
    "executionInfo": {
     "elapsed": 23189,
     "status": "ok",
     "timestamp": 1588265336596,
     "user": {
      "displayName": "Hadelin de Ponteves",
      "photoUrl": "https://lh3.googleusercontent.com/a-/AOh14GhEuXdT7eQweUmRPW8_laJuPggSK6hfvpl5a6WBaA=s64",
      "userId": "15047218817161520419"
     },
     "user_tz": -240
    },
    "id": "_NOjKvZRid5l",
    "outputId": "6fa60701-9aa4-46f2-a6aa-0f9b0aad62b3"
   },
   "outputs": [
    {
     "name": "stderr",
     "output_type": "stream",
     "text": [
      "*c* argument looks like a single numeric RGB or RGBA sequence, which should be avoided as value-mapping will have precedence in case its length matches with *x* & *y*.  Please use the *color* keyword-argument or provide a 2D array with a single row if you intend to specify the same RGB or RGBA value for all points.\n",
      "*c* argument looks like a single numeric RGB or RGBA sequence, which should be avoided as value-mapping will have precedence in case its length matches with *x* & *y*.  Please use the *color* keyword-argument or provide a 2D array with a single row if you intend to specify the same RGB or RGBA value for all points.\n"
     ]
    },
    {
     "data": {
      "image/png": "[encoded data removed]",
      "text/plain": [
       "<Figure size 432x288 with 1 Axes>"
      ]
     },
     "metadata": {
      "needs_background": "light"
     },
     "output_type": "display_data"
    }
   ],
   "source": [
    "from matplotlib.colors import ListedColormap\n",
    "X_set, y_set = sc.inverse_transform(X_train), y_train\n",
    "X1, X2 = np.meshgrid(np.arange(start = X_set[:, 0].min() - 10, stop = X_set[:, 0].max() + 10, step = 0.25),\n",
    "                     np.arange(start = X_set[:, 1].min() - 1000, stop = X_set[:, 1].max() + 1000, step = 0.25))\n",
    "plt.contourf(X1, X2, classifier.predict(sc.transform(np.array([X1.ravel(), X2.ravel()]).T)).reshape(X1.shape),\n",
    "             alpha = 0.75, cmap = ListedColormap(('red', 'green')))\n",
    "plt.xlim(X1.min(), X1.max())\n",
    "plt.ylim(X2.min(), X2.max())\n",
    "for i, j in enumerate(np.unique(y_set)):\n",
    "    plt.scatter(X_set[y_set == j, 0], X_set[y_set == j, 1], c = ListedColormap(('red', 'green'))(i), label = j)\n",
    "plt.title('Logistic Regression (Training set)')\n",
    "plt.xlabel('Age')\n",
    "plt.ylabel('Estimated Salary')\n",
    "plt.legend()\n",
    "plt.show()"
   ]
  },
  {
   "cell_type": "markdown",
   "metadata": {
    "colab_type": "text",
    "id": "SZ-j28aPihZx"
   },
   "source": [
    "## Visualising the Test set results"
   ]
  },
  {
   "cell_type": "code",
   "execution_count": 27,
   "metadata": {
    "colab": {
     "base_uri": "https://localhost:8080/",
     "height": 349
    },
    "colab_type": "code",
    "executionInfo": {
     "elapsed": 43807,
     "status": "ok",
     "timestamp": 1588265357223,
     "user": {
      "displayName": "Hadelin de Ponteves",
      "photoUrl": "https://lh3.googleusercontent.com/a-/AOh14GhEuXdT7eQweUmRPW8_laJuPggSK6hfvpl5a6WBaA=s64",
      "userId": "15047218817161520419"
     },
     "user_tz": -240
    },
    "id": "qeTjz2vDilAC",
    "outputId": "00fb10bc-c726-46b8-8eaa-c5c6b584aa54"
   },
   "outputs": [
    {
     "name": "stderr",
     "output_type": "stream",
     "text": [
      "*c* argument looks like a single numeric RGB or RGBA sequence, which should be avoided as value-mapping will have precedence in case its length matches with *x* & *y*.  Please use the *color* keyword-argument or provide a 2D array with a single row if you intend to specify the same RGB or RGBA value for all points.\n",
      "*c* argument looks like a single numeric RGB or RGBA sequence, which should be avoided as value-mapping will have precedence in case its length matches with *x* & *y*.  Please use the *color* keyword-argument or provide a 2D array with a single row if you intend to specify the same RGB or RGBA value for all points.\n"
     ]
    },
    {
     "data": {
      "image/png": "[encoded data removed]",
      "text/plain": [
       "<Figure size 432x288 with 1 Axes>"
      ]
     },
     "metadata": {
      "needs_background": "light"
     },
     "output_type": "display_data"
    }
   ],
   "source": [
    "from matplotlib.colors import ListedColormap\n",
    "X_set, y_set = sc.inverse_transform(X_test), y_test\n",
    "X1, X2 = np.meshgrid(np.arange(start = X_set[:, 0].min() - 10, stop = X_set[:, 0].max() + 10, step = 0.25),\n",
    "                     np.arange(start = X_set[:, 1].min() - 1000, stop = X_set[:, 1].max() + 1000, step = 0.25))\n",
    "plt.contourf(X1, X2, classifier.predict(sc.transform(np.array([X1.ravel(), X2.ravel()]).T)).reshape(X1.shape),\n",
    "             alpha = 0.75, cmap = ListedColormap(('red', 'green')))\n",
    "plt.xlim(X1.min(), X1.max())\n",
    "plt.ylim(X2.min(), X2.max())\n",
    "for i, j in enumerate(np.unique(y_set)):\n",
    "    plt.scatter(X_set[y_set == j, 0], X_set[y_set == j, 1], c = ListedColormap(('red', 'green'))(i), label = j)\n",
    "plt.title('Logistic Regression (Test set)')\n",
    "plt.xlabel('Age')\n",
    "plt.ylabel('Estimated Salary')\n",
    "plt.legend()\n",
    "plt.show()"
   ]
  }
 ],
 "metadata": {
  "colab": {
   "authorship_tag": "ABX9TyOsvB/iqEjYj3VN6C/JbvkE",
   "collapsed_sections": [],
   "machine_shape": "hm",
   "name": "logistic_regression.ipynb",
   "provenance": [],
   "toc_visible": true
  },
  "kernelspec": {
   "display_name": "Python 3 (ipykernel)",
   "language": "python",
   "name": "python3"
  },
  "language_info": {
   "codemirror_mode": {
    "name": "ipython",
    "version": 3
   },
   "file_extension": ".py",
   "mimetype": "text/x-python",
   "name": "python",
   "nbconvert_exporter": "python",
   "pygments_lexer": "ipython3",
   "version": "3.9.12"
  }
 },
 "nbformat": 4,
 "nbformat_minor": 1
}
